{
 "cells": [
  {
   "cell_type": "code",
   "execution_count": 1,
   "id": "quantitative-lyric",
   "metadata": {},
   "outputs": [],
   "source": [
    "import sys\n",
    "from os import getenv\n",
    "import warnings\n",
    "warnings.filterwarnings(\"ignore\")\n",
    "\n",
    "GONZAG_DIR   = getenv('HOME')+'/DEV/gonzag'\n",
    "sys.path.append(GONZAG_DIR)\n",
    "\n",
    "import gonzag as gzg\n",
    "from gonzag.config import ldebug\n",
    "\n",
    "GONZAG_DATA_DIR = '/Users/auraoupa/Work/git/gonzag/gonzag_input'\n",
    "\n",
    "# Satellite input data:\n",
    "name_sat = 'Sentinel3A'\n",
    "file_sat = GONZAG_DATA_DIR+'/SENTINEL3A_20170130-20170303.nc'\n",
    "name_ssh_sat = 'sla_unfiltered'\n",
    "\n",
    "# Model input data:\n",
    "name_mod = 'eNATL60-WestMed'\n",
    "file_mod = GONZAG_DATA_DIR+'/sossheig_box_WestMed_eNATL60-BLBT02_20170201-20170228.nc'\n",
    "name_ssh_mod = 'sossheig'\n",
    "file_lsm_mod = file_mod; name_lsm_mod = '_FillValue' ; # we use _FillValue attribute of \"nams_ssh_mod\" in \"file_mod\"\n",
    "l_griddist = False ; # grid is not strongly distorded\n",
    "\n",
    "\n",
    "\n"
   ]
  },
  {
   "cell_type": "code",
   "execution_count": 2,
   "id": "catholic-biodiversity",
   "metadata": {},
   "outputs": [],
   "source": [
    "    (it1,it2), (Nts,Ntm) = gzg.GetEpochTimeOverlap( file_sat , file_mod )\n"
   ]
  },
  {
   "cell_type": "code",
   "execution_count": 3,
   "id": "parliamentary-creek",
   "metadata": {},
   "outputs": [
    {
     "name": "stdout",
     "output_type": "stream",
     "text": [
      "1485909000.0 1488324600.0\n"
     ]
    }
   ],
   "source": [
    "print(it1,it2)"
   ]
  },
  {
   "cell_type": "code",
   "execution_count": 4,
   "id": "packed-somewhere",
   "metadata": {},
   "outputs": [],
   "source": [
    "from sys import exit\n",
    "from math import radians, cos, sin, asin, sqrt, pi, tan, log, atan2, copysign\n",
    "import numpy as nmp\n",
    "from gonzag.config import ldebug, R_eq, R_pl, deg2km\n",
    "IsZarr=False"
   ]
  },
  {
   "cell_type": "code",
   "execution_count": 5,
   "id": "hindu-division",
   "metadata": {},
   "outputs": [],
   "source": [
    "ncfile_sat, ncfile_mod = file_sat , file_mod\n"
   ]
  },
  {
   "cell_type": "code",
   "execution_count": 6,
   "id": "robust-rings",
   "metadata": {},
   "outputs": [],
   "source": [
    "    if not IsZarr:\n",
    "        from gonzag.ncio import GetTimeInfo\n",
    "#        print('import nc')\n",
    "    else:\n",
    "        from gonzag.zarrio import GetTimeInfo\n",
    "#        print('import zarr')\n",
    "    #\n",
    "    nts, range_sat = GetTimeInfo( ncfile_sat )\n",
    "    ntm, range_mod = GetTimeInfo( ncfile_mod )\n",
    "    #\n",
    "    (zt1_s,zt2_s) = range_sat\n",
    "    (zt1_m,zt2_m) = range_mod\n",
    "    if ldebug: print('\\n *** [GetEpochTimeOverlap()] Earliest/latest dates:\\n   => for satellite data:',zt1_s,zt2_s,'\\n   => for model     data:',zt1_m,zt2_m,'\\n')\n",
    "    if (zt1_m >= zt2_s) or (zt1_s >= zt2_m) or (zt2_m <= zt1_s) or (zt2_s <= zt1_m):\n",
    "        MsgExit('No time overlap for Model and Track file')\n"
   ]
  },
  {
   "cell_type": "code",
   "execution_count": 7,
   "id": "backed-wages",
   "metadata": {},
   "outputs": [
    {
     "name": "stdout",
     "output_type": "stream",
     "text": [
      "(1485909000.0, 1488324600.0) (1599082, 672)\n"
     ]
    }
   ],
   "source": [
    "print((max(zt1_s, zt1_m), min(zt2_s, zt2_m)), (nts, ntm))"
   ]
  },
  {
   "cell_type": "code",
   "execution_count": 8,
   "id": "asian-specification",
   "metadata": {},
   "outputs": [
    {
     "name": "stdout",
     "output_type": "stream",
     "text": [
      "1485733479.027518\n"
     ]
    }
   ],
   "source": [
    "print(zt1_s)"
   ]
  },
  {
   "cell_type": "code",
   "execution_count": 12,
   "id": "sharp-student",
   "metadata": {},
   "outputs": [],
   "source": [
    "import numpy as nmp\n",
    "from netCDF4 import Dataset, num2date, default_fillvals\n",
    "from calendar import timegm\n",
    "from datetime import datetime as dtm\n",
    "from gonzag.config import ldebug, ivrb, rmissval\n",
    "from gonzag.utils  import MsgExit\n"
   ]
  },
  {
   "cell_type": "code",
   "execution_count": 10,
   "id": "guilty-letters",
   "metadata": {},
   "outputs": [],
   "source": [
    "ncfile=ncfile_sat"
   ]
  },
  {
   "cell_type": "code",
   "execution_count": 14,
   "id": "pointed-combat",
   "metadata": {},
   "outputs": [],
   "source": [
    "def ToEpochTime( vt, units, calendar ):\n",
    "    '''\n",
    "    # INPUT:\n",
    "    #   * vt: time vector provided as something like: \"days since ...\"\n",
    "    #   * units, calendar:\n",
    "    #\n",
    "    # OUTPUT:\n",
    "    #   * vet: time vector converted to UNIX epoch time,\n",
    "    #          aka \"seconds since 1970-01-01 00:00:00\"\n",
    "    #          => as FLOAT !! not INTEGER !!!\n",
    "    '''\n",
    "    cfrmt = '%Y-%m-%d %H:%M:%S'\n",
    "    #\n",
    "    lvect = not (nmp.shape(vt)==())\n",
    "    #\n",
    "    if lvect:\n",
    "        nt = len(vt)\n",
    "        t0 = vt[0]\n",
    "    else:\n",
    "        t0 = vt\n",
    "    if ivrb>0: print(' *** [ToEpochTime()]: original t0 as \"'+units+'\" => ', t0)\n",
    "    t0d = num2date( t0, units, calendar )\n",
    "    if ivrb>0: print(' *** [ToEpochTime()]: intitial date in datetime format => ', t0d)\n",
    "\n",
    "    # We need to round this to the nearest second, because our target format is Epoch time (seconds since 1970)\n",
    "    # and we want an integer!\n",
    "    rdec = t0d.microsecond*1.E-6\n",
    "    # t0 as \"float\" UNIX time:\n",
    "    t0E = float( timegm( dtm.strptime( t0d.strftime(cfrmt) , cfrmt ).timetuple() ) + rdec )\n",
    "\n",
    "    if lvect:\n",
    "        # we are not going to convert the whole array but instead:\n",
    "        if   units[0:10] == 'days since':\n",
    "            vdt = (vt[1:] - vt[0])*86400.\n",
    "        elif units[0:11] == 'hours since':\n",
    "            vdt = (vt[1:] - vt[0])*3600.\n",
    "        elif units[0:13] == 'seconds since':\n",
    "            vdt =  vt[1:] - vt[0]\n",
    "        else:\n",
    "            MsgExit('[ToEpochTime()] => unknown time unit: '+units)\n",
    "        vet = nmp.zeros(nt)\n",
    "        vet[0]  = t0E\n",
    "        vet[1:] = t0E + vdt[:]\n",
    "        del vdt\n",
    "    else:\n",
    "        vet = t0E\n",
    "    #\n",
    "    return vet\n"
   ]
  },
  {
   "cell_type": "code",
   "execution_count": 15,
   "id": "mental-arcade",
   "metadata": {},
   "outputs": [],
   "source": [
    "    if ldebug: print(' *** [GetTimeInfo()] Getting calendar/time info in '+ncfile+' ...')\n",
    "    id_f = Dataset(ncfile)\n",
    "    list_dim = id_f.dimensions.keys()\n",
    "    list_var = id_f.variables.keys()\n",
    "    for cd in [ 'time', 'time_counter', 'TIME', 'record', 't', 'none' ]:\n",
    "        if cd in list_dim: break\n",
    "    if cd == 'none': MsgExit('found no time-record dimension in file '+ncfile)\n",
    "    if ldebug: print('   => time/record dimension is \"'+cd+'\"')\n",
    "    nt = id_f.dimensions[cd].size\n",
    "    cv = cd ; # ASSUMING VAR == DIM !!! Is it bad???\n",
    "    if not cv in list_var: MsgExit('name of time variable is different than name of time dimension')\n",
    "    clndr = id_f.variables[cv]\n",
    "    dt1 = num2date( clndr[0], clndr.units, clndr.calendar ) ; dt2 = num2date( clndr[nt-1], clndr.units, clndr.calendar )\n",
    "    rt1 = ToEpochTime( clndr[0],    clndr.units, clndr.calendar )\n",
    "    rt2 = ToEpochTime( clndr[nt-1], clndr.units, clndr.calendar )    \n",
    "    id_f.close()\n",
    "    #\n",
    "    if ldebug: print('   => first and last time records: ',dt1,'--',dt2,' (UNIX epoch: ', rt1,'--',rt2,')\\n')\n"
   ]
  },
  {
   "cell_type": "code",
   "execution_count": 24,
   "id": "latin-margin",
   "metadata": {},
   "outputs": [
    {
     "data": {
      "text/plain": [
       "'gregorian'"
      ]
     },
     "execution_count": 24,
     "metadata": {},
     "output_type": "execute_result"
    }
   ],
   "source": [
    "id_f = Dataset(ncfile)\n",
    "clndr = id_f.variables[cv]\n",
    "clndr.calendar"
   ]
  },
  {
   "cell_type": "code",
   "execution_count": 25,
   "id": "necessary-accused",
   "metadata": {},
   "outputs": [
    {
     "data": {
      "text/plain": [
       "<class 'netCDF4._netCDF4.Variable'>\n",
       "float64 time(time)\n",
       "    axis: T\n",
       "    calendar: gregorian\n",
       "    long_name: Time of measurement\n",
       "    standard_name: time\n",
       "    units: days since 1950-01-01 00:00:00\n",
       "unlimited dimensions: time\n",
       "current shape = (1599082,)\n",
       "filling on, default _FillValue of 9.969209968386869e+36 used"
      ]
     },
     "execution_count": 25,
     "metadata": {},
     "output_type": "execute_result"
    }
   ],
   "source": [
    "clndr"
   ]
  },
  {
   "cell_type": "code",
   "execution_count": 17,
   "id": "tropical-underground",
   "metadata": {},
   "outputs": [
    {
     "data": {
      "text/plain": [
       "cftime.DatetimeGregorian(2017, 1, 29, 23, 44, 39, 27518)"
      ]
     },
     "execution_count": 17,
     "metadata": {},
     "output_type": "execute_result"
    }
   ],
   "source": [
    "dt1"
   ]
  },
  {
   "cell_type": "code",
   "execution_count": 18,
   "id": "egyptian-xerox",
   "metadata": {},
   "outputs": [
    {
     "data": {
      "text/plain": [
       "1485733479.027518"
      ]
     },
     "execution_count": 18,
     "metadata": {},
     "output_type": "execute_result"
    }
   ],
   "source": [
    "rt1"
   ]
  },
  {
   "cell_type": "code",
   "execution_count": 16,
   "id": "celtic-blackberry",
   "metadata": {},
   "outputs": [
    {
     "name": "stdout",
     "output_type": "stream",
     "text": [
      "1599082 (1485733479.027518, 1488671475.516345)\n"
     ]
    }
   ],
   "source": [
    "print(nt, (rt1,rt2))"
   ]
  },
  {
   "cell_type": "code",
   "execution_count": null,
   "id": "adapted-notebook",
   "metadata": {},
   "outputs": [],
   "source": []
  }
 ],
 "metadata": {
  "kernelspec": {
   "display_name": "gonzag",
   "language": "python",
   "name": "gonzag"
  },
  "language_info": {
   "codemirror_mode": {
    "name": "ipython",
    "version": 3
   },
   "file_extension": ".py",
   "mimetype": "text/x-python",
   "name": "python",
   "nbconvert_exporter": "python",
   "pygments_lexer": "ipython3",
   "version": "3.9.2"
  }
 },
 "nbformat": 4,
 "nbformat_minor": 5
}
