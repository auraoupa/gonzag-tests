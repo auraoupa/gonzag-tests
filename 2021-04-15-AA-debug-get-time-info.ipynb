{
 "cells": [
  {
   "cell_type": "code",
   "execution_count": 1,
   "id": "exotic-lodging",
   "metadata": {},
   "outputs": [],
   "source": [
    "import sys\n",
    "from os import getenv\n",
    "import warnings\n",
    "warnings.filterwarnings(\"ignore\")\n",
    "\n",
    "GONZAG_DIR   = getenv('HOME')+'/DEV/gonzag'\n",
    "sys.path.append(GONZAG_DIR)\n",
    "\n",
    "import gonzag as gzg\n",
    "from gonzag.config import ldebug\n",
    "\n",
    "GONZAG_DATA_DIR = '/Users/auraoupa/Work/git/gonzag/gonzag_input'\n",
    "\n",
    "# Satellite input data:\n",
    "name_sat = 'Sentinel3A'\n",
    "file_sat = GONZAG_DATA_DIR+'/SENTINEL3A_20170130-20170303.nc'\n",
    "name_ssh_sat = 'sla_unfiltered'\n",
    "\n",
    "# Model input data:\n",
    "name_mod = 'eNATL60-WestMed'\n",
    "file_mod = GONZAG_DATA_DIR+'/sossheig_box_WestMed_eNATL60-BLBT02_20170201-20170228.nc'\n",
    "name_ssh_mod = 'sossheig'\n",
    "file_lsm_mod = file_mod; name_lsm_mod = '_FillValue' ; # we use _FillValue attribute of \"nams_ssh_mod\" in \"file_mod\"\n",
    "l_griddist = False ; # grid is not strongly distorded\n",
    "\n",
    "\n",
    "\n"
   ]
  },
  {
   "cell_type": "code",
   "execution_count": 2,
   "id": "further-provincial",
   "metadata": {},
   "outputs": [
    {
     "ename": "ImportError",
     "evalue": "cannot import name 'ivrb' from 'gonzag.config' (/Users/auraoupa/Work/git/gonzag_old/gonzag/config.py)",
     "output_type": "error",
     "traceback": [
      "\u001b[0;31m---------------------------------------------------------------------------\u001b[0m",
      "\u001b[0;31mImportError\u001b[0m                               Traceback (most recent call last)",
      "\u001b[0;32m<ipython-input-2-8dd9550c2a24>\u001b[0m in \u001b[0;36m<module>\u001b[0;34m\u001b[0m\n\u001b[0;32m----> 1\u001b[0;31m \u001b[0;34m(\u001b[0m\u001b[0mit1\u001b[0m\u001b[0;34m,\u001b[0m\u001b[0mit2\u001b[0m\u001b[0;34m)\u001b[0m\u001b[0;34m,\u001b[0m \u001b[0;34m(\u001b[0m\u001b[0mNts\u001b[0m\u001b[0;34m,\u001b[0m\u001b[0mNtm\u001b[0m\u001b[0;34m)\u001b[0m \u001b[0;34m=\u001b[0m \u001b[0mgzg\u001b[0m\u001b[0;34m.\u001b[0m\u001b[0mGetEpochTimeOverlap\u001b[0m\u001b[0;34m(\u001b[0m \u001b[0mfile_sat\u001b[0m \u001b[0;34m,\u001b[0m \u001b[0mfile_mod\u001b[0m \u001b[0;34m)\u001b[0m\u001b[0;34m\u001b[0m\u001b[0;34m\u001b[0m\u001b[0m\n\u001b[0m",
      "\u001b[0;32m~/Work/git/gonzag_old/gonzag/utils.py\u001b[0m in \u001b[0;36mGetEpochTimeOverlap\u001b[0;34m(ncfile_sat, ncfile_mod)\u001b[0m\n\u001b[1;32m    189\u001b[0m         \u001b[0mprint\u001b[0m\u001b[0;34m(\u001b[0m\u001b[0;34m'import nc'\u001b[0m\u001b[0;34m)\u001b[0m\u001b[0;34m\u001b[0m\u001b[0;34m\u001b[0m\u001b[0m\n\u001b[1;32m    190\u001b[0m     \u001b[0;32melse\u001b[0m\u001b[0;34m:\u001b[0m\u001b[0;34m\u001b[0m\u001b[0;34m\u001b[0m\u001b[0m\n\u001b[0;32m--> 191\u001b[0;31m         \u001b[0;32mfrom\u001b[0m \u001b[0;34m.\u001b[0m\u001b[0mzarrio\u001b[0m \u001b[0;32mimport\u001b[0m \u001b[0mGetTimeInfo\u001b[0m\u001b[0;34m\u001b[0m\u001b[0;34m\u001b[0m\u001b[0m\n\u001b[0m\u001b[1;32m    192\u001b[0m         \u001b[0mprint\u001b[0m\u001b[0;34m(\u001b[0m\u001b[0;34m'import zarr'\u001b[0m\u001b[0;34m)\u001b[0m\u001b[0;34m\u001b[0m\u001b[0;34m\u001b[0m\u001b[0m\n\u001b[1;32m    193\u001b[0m     \u001b[0;31m#\u001b[0m\u001b[0;34m\u001b[0m\u001b[0;34m\u001b[0m\u001b[0;34m\u001b[0m\u001b[0m\n",
      "\u001b[0;32m~/Work/git/gonzag_old/gonzag/zarrio.py\u001b[0m in \u001b[0;36m<module>\u001b[0;34m\u001b[0m\n\u001b[1;32m     12\u001b[0m \u001b[0;32mfrom\u001b[0m \u001b[0mcalendar\u001b[0m \u001b[0;32mimport\u001b[0m \u001b[0mtimegm\u001b[0m\u001b[0;34m\u001b[0m\u001b[0;34m\u001b[0m\u001b[0m\n\u001b[1;32m     13\u001b[0m \u001b[0;32mfrom\u001b[0m \u001b[0mdatetime\u001b[0m \u001b[0;32mimport\u001b[0m \u001b[0mdatetime\u001b[0m \u001b[0;32mas\u001b[0m \u001b[0mdtm\u001b[0m\u001b[0;34m\u001b[0m\u001b[0;34m\u001b[0m\u001b[0m\n\u001b[0;32m---> 14\u001b[0;31m \u001b[0;32mfrom\u001b[0m \u001b[0;34m.\u001b[0m\u001b[0mconfig\u001b[0m \u001b[0;32mimport\u001b[0m \u001b[0mldebug\u001b[0m\u001b[0;34m,\u001b[0m \u001b[0mivrb\u001b[0m\u001b[0;34m,\u001b[0m \u001b[0mrmissval\u001b[0m\u001b[0;34m\u001b[0m\u001b[0;34m\u001b[0m\u001b[0m\n\u001b[0m\u001b[1;32m     15\u001b[0m \u001b[0;32mfrom\u001b[0m \u001b[0;34m.\u001b[0m\u001b[0mutils\u001b[0m  \u001b[0;32mimport\u001b[0m \u001b[0mMsgExit\u001b[0m\u001b[0;34m\u001b[0m\u001b[0;34m\u001b[0m\u001b[0m\n\u001b[1;32m     16\u001b[0m \u001b[0;34m\u001b[0m\u001b[0m\n",
      "\u001b[0;31mImportError\u001b[0m: cannot import name 'ivrb' from 'gonzag.config' (/Users/auraoupa/Work/git/gonzag_old/gonzag/config.py)"
     ]
    }
   ],
   "source": [
    "    (it1,it2), (Nts,Ntm) = gzg.GetEpochTimeOverlap( file_sat , file_mod )\n"
   ]
  },
  {
   "cell_type": "code",
   "execution_count": null,
   "id": "resistant-hydrogen",
   "metadata": {},
   "outputs": [],
   "source": []
  },
  {
   "cell_type": "code",
   "execution_count": 2,
   "id": "apart-expense",
   "metadata": {},
   "outputs": [],
   "source": [
    "import gonzag as gz\n",
    "from gonzag.config import ldebug\n"
   ]
  },
  {
   "cell_type": "code",
   "execution_count": 3,
   "id": "found-insight",
   "metadata": {},
   "outputs": [],
   "source": [
    "file_sat = 'zarr_dt_global_alg_sla_vxxc_20170402_SARAL-Altika'\n",
    "name_ssh_sat = 'adt_unfiltered'\n",
    "file_mod = 'zarr_ssh_ORCA1_20170101_20171231_grid_T'\n",
    "name_ssh_mod = 'ssh'\n",
    "file_lsm_mod = 'zarr_ssh_ORCA1_20170101_20171231_grid_T'\n",
    "name_lsm_mod = '_FillValue'"
   ]
  },
  {
   "cell_type": "code",
   "execution_count": 4,
   "id": "reverse-former",
   "metadata": {},
   "outputs": [
    {
     "name": "stdout",
     "output_type": "stream",
     "text": [
      "iszarr =  True\n",
      "import zarr\n",
      " *** [GetTimeInfo()] Getting calendar/time info in zarr_dt_global_alg_sla_vxxc_20170402_SARAL-Altika ...\n",
      "   => time/record dimension is \"time\"\n",
      " *** [GetTimeInfo()] Getting calendar/time info in zarr_ssh_ORCA1_20170101_20171231_grid_T ...\n",
      "   => time/record dimension is \"time_counter\"\n",
      "\n",
      " *** [GetEpochTimeOverlap()] Earliest/latest dates:\n",
      "   => for satellite data: 2017-04-01T23:57:40.480926208 2017-04-02T23:14:42.618708992 \n",
      "   => for model     data: 2017-01-16T12:00:00.000000000 2017-12-16T12:00:00.000000000 \n",
      "\n"
     ]
    }
   ],
   "source": [
    "(it1,it2), (Nts,Ntm) = gz.GetEpochTimeOverlap( file_sat , file_mod )"
   ]
  },
  {
   "cell_type": "code",
   "execution_count": 5,
   "id": "illegal-alpha",
   "metadata": {},
   "outputs": [
    {
     "name": "stdout",
     "output_type": "stream",
     "text": [
      " *** Time overlap between model and satellite in UNIX epoch time: it1, it2 2017-04-01T23:57:40.480926208 -- 2017-04-02T23:14:42.618708992\n",
      "   => UTC: \"2017-04-01T23:57:40.480926208\" to \"2017-04-02T23:14:42.618708992\"\n",
      "\n",
      "\n",
      "\n",
      "\n",
      " #####   M O D E L   2 D + T   D O M A I N   a.k.a.  S O U R C E   #####\n",
      "\n"
     ]
    }
   ],
   "source": [
    "    print(' *** Time overlap between model and satellite in UNIX epoch time: it1, it2', it1,'--',it2)\n",
    "    print('   => UTC: \"'+str(it1)+'\" to \"'+str(it2)+'\"\\n')\n",
    "\n",
    "\n",
    "    print('\\n\\n\\n #####   M O D E L   2 D + T   D O M A I N   a.k.a.  S O U R C E   #####\\n')\n",
    "\n"
   ]
  },
  {
   "cell_type": "code",
   "execution_count": 6,
   "id": "accomplished-alpha",
   "metadata": {},
   "outputs": [],
   "source": [
    "clsm = name_lsm_mod\n",
    "if name_lsm_mod=='_FillValue': clsm = name_lsm_mod+'@'+name_ssh_mod"
   ]
  },
  {
   "cell_type": "code",
   "execution_count": null,
   "id": "prescribed-membership",
   "metadata": {},
   "outputs": [],
   "source": []
  },
  {
   "cell_type": "code",
   "execution_count": 7,
   "id": "floating-shooting",
   "metadata": {},
   "outputs": [
    {
     "name": "stdout",
     "output_type": "stream",
     "text": [
      " *** [GetTimeEpochVector()] reading \"time_counter\" in zarr_ssh_ORCA1_20170101_20171231_grid_T and converting it to Epoch time...\n",
      " *** [GetTimeEpochVector()] reading \"time_counter\" in zarr_ssh_ORCA1_20170101_20171231_grid_T and converting it to Epoch time...\n",
      " *** Model latitude var is: \"nav_lat\" ! with 2 dimensions! (292, 362) \n",
      "\n",
      " *** Model longitude var is: \"nav_lon\" ! with 2 dimensions! (292, 362) \n",
      "\n",
      "\n",
      " *** what we use to define model land-sea mask:\n",
      "    => \"_FillValue@ssh\" in \"zarr_ssh_ORCA1_20170101_20171231_grid_T\"\n",
      "\n",
      " *** [GridResolution()] Based on the longitude array, the model resolution ~=  1.0  degrees \n",
      "\n",
      " *** Computing angle distortion of the model grid...\n",
      "\n",
      " *** About model gridded (source) domain:\n",
      "     * shape =  (292, 362)\n",
      "     * horizontal resolution:  1.0  degrees or  111.11  km\n",
      "     * lon_min, lon_max =  0.0 360.0\n",
      "     * Is this a global domain w.r.t longitude:  True\n",
      "       ==> East West periodicity:  True , with an overlap of  2  points\n",
      "     * lat_min, lat_max =  -78.58 89.74\n",
      "     * number of time records of interest for the interpolation to come:  2\n",
      "       ==> time record indices: 2 to 3, included\n",
      "\n"
     ]
    }
   ],
   "source": [
    "ModelGrid = gz.ModGrid( file_mod, it1, it2, file_lsm_mod, clsm )"
   ]
  },
  {
   "cell_type": "code",
   "execution_count": 8,
   "id": "immediate-tactics",
   "metadata": {},
   "outputs": [
    {
     "name": "stdout",
     "output_type": "stream",
     "text": [
      "\n",
      "\n",
      "\n",
      " #####   S A T E L L I T E   1 D   T R A C K   a.k.a.  T A R G E T   #####\n",
      "\n",
      " *** [SatTrack()] Analyzing the time vector in zarr_dt_global_alg_sla_vxxc_20170402_SARAL-Altika ...\n",
      " *** [GetTimeEpochVector()] reading \"time\" in zarr_dt_global_alg_sla_vxxc_20170402_SARAL-Altika and converting it to Epoch time...\n",
      " *** [GetSatCoord()] reading \"latitude\" in zarr_dt_global_alg_sla_vxxc_20170402_SARAL-Altika ...\n",
      "   => 44533 records in TOTAL!\n",
      "\n",
      " *** [GetSatCoord()] reading \"longitude\" in zarr_dt_global_alg_sla_vxxc_20170402_SARAL-Altika ...\n",
      "   => 44533 records in TOTAL!\n",
      "\n",
      "\n",
      " *** About satellite track (target) domain:\n",
      "     * number of time records of interest for the interpolation to come:  44533\n",
      "       ==> time record indices: 0 to 44532, included\n",
      "\n"
     ]
    }
   ],
   "source": [
    "    print('\\n\\n\\n #####   S A T E L L I T E   1 D   T R A C K   a.k.a.  T A R G E T   #####\\n')\n",
    "\n",
    "    SatelliteTrack = gz.SatTrack( file_sat, it1, it2, Np=Nts, \\\n",
    "                                  domain_bounds=ModelGrid.domain_bounds, l_0_360=ModelGrid.l360 )\n"
   ]
  },
  {
   "cell_type": "code",
   "execution_count": 9,
   "id": "adopted-gathering",
   "metadata": {},
   "outputs": [],
   "source": [
    "MG=ModelGrid\n",
    "ST=SatelliteTrack\n",
    "file_out='mod2sat.nc'"
   ]
  },
  {
   "cell_type": "code",
   "execution_count": 12,
   "id": "absolute-madness",
   "metadata": {},
   "outputs": [],
   "source": [
    "import time ; # to report execution speed of certain parts of the code...\n",
    "#\n",
    "from gonzag.config import IsZarr, ldebug, if_talk, l_plot_meshes, deg2km, rfactor, search_box_w_km, l_save_track_on_model_grid, l_plot_meshes, rmissval\n",
    "from gonzag.utils  import *\n",
    "from gonzag.bilin_mapping import BilinTrack"
   ]
  },
  {
   "cell_type": "code",
   "execution_count": 13,
   "id": "substantial-creator",
   "metadata": {},
   "outputs": [],
   "source": [
    "    if not IsZarr:\n",
    "        from gonzag.ncio   import GetModel2DVar, Save2Dfield, GetSatSSH, SaveTimeSeries\n",
    "    else:\n",
    "        from gonzag.zarrio import GetModel2DVar, Save2Dfield, GetSatSSH, SaveTimeSeries"
   ]
  },
  {
   "cell_type": "code",
   "execution_count": 14,
   "id": "handy-presentation",
   "metadata": {},
   "outputs": [],
   "source": [
    "(Nj,Ni) = MG.shape"
   ]
  },
  {
   "cell_type": "code",
   "execution_count": 15,
   "id": "unsigned-handy",
   "metadata": {},
   "outputs": [
    {
     "name": "stdout",
     "output_type": "stream",
     "text": [
      "292 362\n"
     ]
    }
   ],
   "source": [
    "print(Nj,Ni)"
   ]
  },
  {
   "cell_type": "code",
   "execution_count": 16,
   "id": "disturbed-cemetery",
   "metadata": {},
   "outputs": [
    {
     "name": "stdout",
     "output_type": "stream",
     "text": [
      " *** \"found\" distance criterion when searching for nearest point on model grid is  83.3325  km\n",
      "\n"
     ]
    }
   ],
   "source": [
    "    d_found_km = rfactor*MG.HResDeg*deg2km\n",
    "    print(' *** \"found\" distance criterion when searching for nearest point on model grid is ', d_found_km, ' km\\n')"
   ]
  },
  {
   "cell_type": "code",
   "execution_count": 17,
   "id": "impressed-rugby",
   "metadata": {},
   "outputs": [
    {
     "name": "stdout",
     "output_type": "stream",
     "text": [
      " *** Will use zoom boxes of width of 5 points for 1st attempts of nearest-point location...\n",
      "\n"
     ]
    }
   ],
   "source": [
    "    # Size of the search zoom box:\n",
    "    np_box_radius = SearchBoxSize( MG.HResDeg*deg2km, search_box_w_km )\n",
    "    print(' *** Will use zoom boxes of width of '+str(2*np_box_radius+1)+' points for 1st attempts of nearest-point location...\\n')\n",
    "\n",
    "    Nt = ST.size ; # number of satellit observation point to work with here...\n"
   ]
  },
  {
   "cell_type": "code",
   "execution_count": 18,
   "id": "blessed-essex",
   "metadata": {},
   "outputs": [],
   "source": [
    "   startTime = time.time()\n"
   ]
  },
  {
   "cell_type": "code",
   "execution_count": 19,
   "id": "dangerous-given",
   "metadata": {},
   "outputs": [
    {
     "name": "stdout",
     "output_type": "stream",
     "text": [
      "1617111721.057269\n"
     ]
    }
   ],
   "source": [
    "print(startTime)"
   ]
  },
  {
   "cell_type": "code",
   "execution_count": 20,
   "id": "equal-burning",
   "metadata": {},
   "outputs": [],
   "source": [
    "import sys\n",
    "#from os import path, getcwd, mkdir\n",
    "#import numpy as nmp\n",
    "\n",
    "from math import radians, cos, sin, asin, sqrt, pi, tan, log, atan2, copysign\n",
    "#from geopy import distance as geopy_distance\n",
    "\n",
    "import numpy as nmp\n",
    "\n",
    "from gonzag.config  import ldebug\n",
    "from gonzag.utils   import Haversine, find_j_i_min, degE_to_degWE, degE_to_degWE_vctr\n"
   ]
  },
  {
   "cell_type": "code",
   "execution_count": 21,
   "id": "uniform-feeling",
   "metadata": {},
   "outputs": [],
   "source": [
    "Yt=ST.lat\n",
    "Xt=ST.lon\n",
    "Ys=MG.lat\n",
    "Xs=MG.lon\n",
    "src_grid_local_angle=MG.xangle\n",
    "k_ew_per=MG.EWPer\n",
    "rd_found_km=d_found_km\n",
    "np_box_r=np_box_radius\n",
    "freq_talk=if_talk\n"
   ]
  },
  {
   "cell_type": "code",
   "execution_count": 22,
   "id": "senior-subdivision",
   "metadata": {},
   "outputs": [],
   "source": [
    "sangle = src_grid_local_angle\n",
    "kewp   = k_ew_per\n",
    "rfound = rd_found_km\n",
    "nprad  = np_box_r\n",
    "(Nj,Ni) = Ys.shape"
   ]
  },
  {
   "cell_type": "code",
   "execution_count": 23,
   "id": "adopted-breed",
   "metadata": {},
   "outputs": [
    {
     "name": "stdout",
     "output_type": "stream",
     "text": [
      "292 362\n"
     ]
    }
   ],
   "source": [
    "print(Nj,Ni)"
   ]
  },
  {
   "cell_type": "code",
   "execution_count": 25,
   "id": "established-texas",
   "metadata": {},
   "outputs": [],
   "source": [
    "NP = nmp.zeros((Nt,2)  , dtype=nmp.int64)"
   ]
  },
  {
   "cell_type": "code",
   "execution_count": 26,
   "id": "funny-spain",
   "metadata": {},
   "outputs": [],
   "source": [
    "SM = nmp.zeros((Nt,4,2), dtype=nmp.int64)"
   ]
  },
  {
   "cell_type": "code",
   "execution_count": 27,
   "id": "quiet-microwave",
   "metadata": {},
   "outputs": [],
   "source": [
    "WB = nmp.zeros((Nt,4))"
   ]
  },
  {
   "cell_type": "code",
   "execution_count": 28,
   "id": "outstanding-layout",
   "metadata": {},
   "outputs": [],
   "source": [
    "ftalk = 2*Nt"
   ]
  },
  {
   "cell_type": "code",
   "execution_count": 29,
   "id": "domestic-helicopter",
   "metadata": {},
   "outputs": [],
   "source": [
    "ftalk = int(freq_talk)"
   ]
  },
  {
   "cell_type": "code",
   "execution_count": 30,
   "id": "intermediate-glass",
   "metadata": {},
   "outputs": [
    {
     "name": "stdout",
     "output_type": "stream",
     "text": [
      "\n",
      " *** Finding nearest points on source (model) grid... (rd_found_km, np_box_r = 83.3325 2 )\n"
     ]
    }
   ],
   "source": [
    "        print('\\n *** Finding nearest points on source (model) grid... (rd_found_km, np_box_r =',rd_found_km, np_box_r,')')\n"
   ]
  },
  {
   "cell_type": "code",
   "execution_count": 35,
   "id": "verbal-ranking",
   "metadata": {},
   "outputs": [],
   "source": [
    "    def nrpt(  ):\n",
    "        #\n",
    "        xnp = nmp.zeros((Nt,2), dtype=nmp.int64)\n",
    "        #\n",
    "        [jj,ji] = [nprad,nprad] ; # stupid first guess here...\n",
    "        #\n",
    "        for jt in range(Nt):\n",
    "            ltalk = ((jt+1)%ftalk==0)\n",
    "\n",
    "            if ltalk: print('      +++ Treated point: '+str(jt+1)+'/'+str(Nt), \\\n",
    "                            '\\n          ==> Sat. coordinates:    ', round(Yt[jt],3), round(Xt[jt],3))\n",
    "            \n",
    "            [jj,ji] = NearestPoint( (Yt[jt],Xt[jt]), Ys, Xs, \\\n",
    "                                    rd_found_km=rfound, j_prv=jj, i_prv=ji, np_box_r=nprad )\n",
    "\n",
    "            # Exclude points at first and last column if no E-W periodicity:\n",
    "            if ji==0 or ji==Ni-1 and kewp == -1: [jj,ji] = [-1,-1]\n",
    "            # Exclude points at first and last row:\n",
    "            if jj==0 or jj==Nj-1:                     [jj,ji] = [-1,-1]\n",
    "            \n",
    "            xnp[jt,:] = [jj,ji]\n",
    "\n",
    "            if ltalk: print('          ==> Model nearest point: ', \\\n",
    "                            round(Ys[jj,ji],3),round(Xs[jj,ji]%360.,3),' (',jj,ji,')')\n",
    "        #\n",
    "        return xnp\n"
   ]
  },
  {
   "cell_type": "code",
   "execution_count": 41,
   "id": "fitting-shark",
   "metadata": {},
   "outputs": [],
   "source": [
    "[jj,ji] = [nprad,nprad]\n",
    "pcoor_trg=(Yt[0],Xt[0])\n",
    "rd_found_km=rfound\n",
    "j_prv=jj\n",
    "i_prv=ji\n",
    "np_box_r=nprad"
   ]
  },
  {
   "cell_type": "code",
   "execution_count": 42,
   "id": "durable-admission",
   "metadata": {},
   "outputs": [],
   "source": [
    "(yT,xT) = pcoor_trg\n",
    "(Ny,Nx) = Ys.shape"
   ]
  },
  {
   "cell_type": "code",
   "execution_count": 43,
   "id": "italic-frame",
   "metadata": {},
   "outputs": [],
   "source": [
    "    jy, jx = -1,-1 ; # Flag value...\n",
    "    j1=max(j_prv-np_box_r,0) ; j2=min(j_prv+np_box_r+1,Ny)\n",
    "    i1=max(i_prv-np_box_r,0) ; i2=min(i_prv+np_box_r+1,Nx)\n",
    "    lfound = False\n",
    "    rfnd = rd_found_km\n",
    "    igo = 0\n"
   ]
  },
  {
   "cell_type": "code",
   "execution_count": 46,
   "id": "inappropriate-offense",
   "metadata": {},
   "outputs": [],
   "source": [
    "        igo = igo + 1\n",
    "        if igo>1: (j1,i1 , j2,i2) = (0,0 , Ny,Nx) ; # Falling back on whole domain for second pass...\n"
   ]
  },
  {
   "cell_type": "code",
   "execution_count": 53,
   "id": "happy-mystery",
   "metadata": {},
   "outputs": [
    {
     "name": "stdout",
     "output_type": "stream",
     "text": [
      "[[72.5 73.5 74.5 75.5 76.5]\n",
      " [72.5 73.5 74.5 75.5 76.5]\n",
      " [72.5 73.5 74.5 75.5 76.5]\n",
      " [72.5 73.5 74.5 75.5 76.5]\n",
      " [72.5 73.5 74.5 75.5 76.5]]\n"
     ]
    }
   ],
   "source": [
    "print(Xs[j1:j2,i1:i2])"
   ]
  },
  {
   "cell_type": "code",
   "execution_count": 54,
   "id": "christian-generation",
   "metadata": {},
   "outputs": [],
   "source": [
    "xd = Haversine( yT.values, xT.values,  Ys[j1:j2,i1:i2], Xs[j1:j2,i1:i2] )"
   ]
  },
  {
   "cell_type": "code",
   "execution_count": 37,
   "id": "three-arlington",
   "metadata": {},
   "outputs": [],
   "source": [
    "def NearestPoint( pcoor_trg, Ys, Xs, rd_found_km=100., j_prv=0, i_prv=0, np_box_r=10 ):\n",
    "    '''\n",
    "    # * pcoor_trg : GPS coordinates (lat,lon) of target point    ([real],[real])\n",
    "    # * Ys        : array of source grid latitude            2D numpy.array [real]\n",
    "    # * Xs        : array of source grid longitude           2D numpy.array [real]\n",
    "    '''\n",
    "    (yT,xT) = pcoor_trg\n",
    "    (Ny,Nx) = Ys.shape\n",
    "    #\n",
    "    jy, jx = -1,-1 ; # Flag value...\n",
    "    j1=max(j_prv-np_box_r,0) ; j2=min(j_prv+np_box_r+1,Ny)\n",
    "    i1=max(i_prv-np_box_r,0) ; i2=min(i_prv+np_box_r+1,Nx)\n",
    "    lfound = False\n",
    "    rfnd = rd_found_km\n",
    "    igo = 0\n",
    "    while (not lfound) and igo<5 :\n",
    "        igo = igo + 1\n",
    "        if igo>1: (j1,i1 , j2,i2) = (0,0 , Ny,Nx) ; # Falling back on whole domain for second pass...\n",
    "        xd = Haversine( yT, xT,  Ys[j1:j2,i1:i2], Xs[j1:j2,i1:i2] )\n",
    "        jy, jx = find_j_i_min( xd )\n",
    "        lfound = ( xd[jy,jx] < rfnd )\n",
    "        if igo>1 and not lfound:\n",
    "            rfnd = 1.25*rfnd ; # increasing validation distance criterion by 25 %\n",
    "    if igo==1:\n",
    "        jy, jx = jy+j1, jx+i1 ; # found in the zoom box => translate to indices in whole domain:\n",
    "    #\n",
    "    if jy<0 or jx<0 or jy>=Ny or jx>=Nx or igo==5:\n",
    "        print(' WARNING: did not find a nearest point for target point ',yT,xT,' !')\n",
    "        print('          => last tested distance criterions =', rfnd,' km\\n')\n",
    "        jy, jx = -1,-1        \n",
    "    return [jy,jx]"
   ]
  },
  {
   "cell_type": "code",
   "execution_count": 38,
   "id": "unsigned-denial",
   "metadata": {},
   "outputs": [
    {
     "ename": "ValueError",
     "evalue": "applied function returned data with unexpected number of dimensions. Received 2 dimension(s) but expected 0 dimensions with names: ()",
     "output_type": "error",
     "traceback": [
      "\u001b[0;31m---------------------------------------------------------------------------\u001b[0m",
      "\u001b[0;31mValueError\u001b[0m                                Traceback (most recent call last)",
      "\u001b[0;32m<ipython-input-38-f0cea9f5b30d>\u001b[0m in \u001b[0;36m<module>\u001b[0;34m\u001b[0m\n\u001b[0;32m----> 1\u001b[0;31m \u001b[0mNP\u001b[0m \u001b[0;34m=\u001b[0m \u001b[0mnrpt\u001b[0m\u001b[0;34m(\u001b[0m \u001b[0;34m)\u001b[0m\u001b[0;34m\u001b[0m\u001b[0;34m\u001b[0m\u001b[0m\n\u001b[0m",
      "\u001b[0;32m<ipython-input-35-4d615dae3eb2>\u001b[0m in \u001b[0;36mnrpt\u001b[0;34m()\u001b[0m\n\u001b[1;32m     11\u001b[0m                         '\\n          ==> Sat. coordinates:    ', round(Yt[jt],3), round(Xt[jt],3))\n\u001b[1;32m     12\u001b[0m \u001b[0;34m\u001b[0m\u001b[0m\n\u001b[0;32m---> 13\u001b[0;31m         [jj,ji] = NearestPoint( (Yt[jt],Xt[jt]), Ys, Xs, \\\n\u001b[0m\u001b[1;32m     14\u001b[0m                                 rd_found_km=rfound, j_prv=jj, i_prv=ji, np_box_r=nprad )\n\u001b[1;32m     15\u001b[0m \u001b[0;34m\u001b[0m\u001b[0m\n",
      "\u001b[0;32m<ipython-input-37-45f6a10e377f>\u001b[0m in \u001b[0;36mNearestPoint\u001b[0;34m(pcoor_trg, Ys, Xs, rd_found_km, j_prv, i_prv, np_box_r)\u001b[0m\n\u001b[1;32m     17\u001b[0m         \u001b[0migo\u001b[0m \u001b[0;34m=\u001b[0m \u001b[0migo\u001b[0m \u001b[0;34m+\u001b[0m \u001b[0;36m1\u001b[0m\u001b[0;34m\u001b[0m\u001b[0;34m\u001b[0m\u001b[0m\n\u001b[1;32m     18\u001b[0m         \u001b[0;32mif\u001b[0m \u001b[0migo\u001b[0m\u001b[0;34m>\u001b[0m\u001b[0;36m1\u001b[0m\u001b[0;34m:\u001b[0m \u001b[0;34m(\u001b[0m\u001b[0mj1\u001b[0m\u001b[0;34m,\u001b[0m\u001b[0mi1\u001b[0m \u001b[0;34m,\u001b[0m \u001b[0mj2\u001b[0m\u001b[0;34m,\u001b[0m\u001b[0mi2\u001b[0m\u001b[0;34m)\u001b[0m \u001b[0;34m=\u001b[0m \u001b[0;34m(\u001b[0m\u001b[0;36m0\u001b[0m\u001b[0;34m,\u001b[0m\u001b[0;36m0\u001b[0m \u001b[0;34m,\u001b[0m \u001b[0mNy\u001b[0m\u001b[0;34m,\u001b[0m\u001b[0mNx\u001b[0m\u001b[0;34m)\u001b[0m \u001b[0;34m;\u001b[0m \u001b[0;31m# Falling back on whole domain for second pass...\u001b[0m\u001b[0;34m\u001b[0m\u001b[0;34m\u001b[0m\u001b[0m\n\u001b[0;32m---> 19\u001b[0;31m         \u001b[0mxd\u001b[0m \u001b[0;34m=\u001b[0m \u001b[0mHaversine\u001b[0m\u001b[0;34m(\u001b[0m \u001b[0myT\u001b[0m\u001b[0;34m,\u001b[0m \u001b[0mxT\u001b[0m\u001b[0;34m,\u001b[0m  \u001b[0mYs\u001b[0m\u001b[0;34m[\u001b[0m\u001b[0mj1\u001b[0m\u001b[0;34m:\u001b[0m\u001b[0mj2\u001b[0m\u001b[0;34m,\u001b[0m\u001b[0mi1\u001b[0m\u001b[0;34m:\u001b[0m\u001b[0mi2\u001b[0m\u001b[0;34m]\u001b[0m\u001b[0;34m,\u001b[0m \u001b[0mXs\u001b[0m\u001b[0;34m[\u001b[0m\u001b[0mj1\u001b[0m\u001b[0;34m:\u001b[0m\u001b[0mj2\u001b[0m\u001b[0;34m,\u001b[0m\u001b[0mi1\u001b[0m\u001b[0;34m:\u001b[0m\u001b[0mi2\u001b[0m\u001b[0;34m]\u001b[0m \u001b[0;34m)\u001b[0m\u001b[0;34m\u001b[0m\u001b[0;34m\u001b[0m\u001b[0m\n\u001b[0m\u001b[1;32m     20\u001b[0m         \u001b[0mjy\u001b[0m\u001b[0;34m,\u001b[0m \u001b[0mjx\u001b[0m \u001b[0;34m=\u001b[0m \u001b[0mfind_j_i_min\u001b[0m\u001b[0;34m(\u001b[0m \u001b[0mxd\u001b[0m \u001b[0;34m)\u001b[0m\u001b[0;34m\u001b[0m\u001b[0;34m\u001b[0m\u001b[0m\n\u001b[1;32m     21\u001b[0m         \u001b[0mlfound\u001b[0m \u001b[0;34m=\u001b[0m \u001b[0;34m(\u001b[0m \u001b[0mxd\u001b[0m\u001b[0;34m[\u001b[0m\u001b[0mjy\u001b[0m\u001b[0;34m,\u001b[0m\u001b[0mjx\u001b[0m\u001b[0;34m]\u001b[0m \u001b[0;34m<\u001b[0m \u001b[0mrfnd\u001b[0m \u001b[0;34m)\u001b[0m\u001b[0;34m\u001b[0m\u001b[0;34m\u001b[0m\u001b[0m\n",
      "\u001b[0;32m~/Work/git/gonzag/gonzag/utils.py\u001b[0m in \u001b[0;36mHaversine\u001b[0;34m(plat, plon, xlat, xlon)\u001b[0m\n\u001b[1;32m    309\u001b[0m     \u001b[0mR\u001b[0m \u001b[0;34m=\u001b[0m \u001b[0;36m6360.\u001b[0m\u001b[0;34m\u001b[0m\u001b[0;34m\u001b[0m\u001b[0m\n\u001b[1;32m    310\u001b[0m     \u001b[0;31m#\u001b[0m\u001b[0;34m\u001b[0m\u001b[0;34m\u001b[0m\u001b[0;34m\u001b[0m\u001b[0m\n\u001b[0;32m--> 311\u001b[0;31m     \u001b[0ma1\u001b[0m \u001b[0;34m=\u001b[0m \u001b[0mnmp\u001b[0m\u001b[0;34m.\u001b[0m\u001b[0msin\u001b[0m\u001b[0;34m(\u001b[0m \u001b[0;36m0.5\u001b[0m \u001b[0;34m*\u001b[0m \u001b[0;34m(\u001b[0m\u001b[0;34m(\u001b[0m\u001b[0mxlat\u001b[0m \u001b[0;34m-\u001b[0m \u001b[0mplat\u001b[0m\u001b[0;34m)\u001b[0m\u001b[0;34m*\u001b[0m\u001b[0mto_rad\u001b[0m\u001b[0;34m)\u001b[0m \u001b[0;34m)\u001b[0m\u001b[0;34m\u001b[0m\u001b[0;34m\u001b[0m\u001b[0m\n\u001b[0m\u001b[1;32m    312\u001b[0m     \u001b[0ma2\u001b[0m \u001b[0;34m=\u001b[0m \u001b[0mnmp\u001b[0m\u001b[0;34m.\u001b[0m\u001b[0msin\u001b[0m\u001b[0;34m(\u001b[0m \u001b[0;36m0.5\u001b[0m \u001b[0;34m*\u001b[0m \u001b[0;34m(\u001b[0m\u001b[0;34m(\u001b[0m\u001b[0mxlon\u001b[0m \u001b[0;34m-\u001b[0m \u001b[0mplon\u001b[0m\u001b[0;34m)\u001b[0m\u001b[0;34m*\u001b[0m\u001b[0mto_rad\u001b[0m\u001b[0;34m)\u001b[0m \u001b[0;34m)\u001b[0m\u001b[0;34m\u001b[0m\u001b[0;34m\u001b[0m\u001b[0m\n\u001b[1;32m    313\u001b[0m     \u001b[0ma3\u001b[0m \u001b[0;34m=\u001b[0m \u001b[0mnmp\u001b[0m\u001b[0;34m.\u001b[0m\u001b[0mcos\u001b[0m\u001b[0;34m(\u001b[0m \u001b[0mxlat\u001b[0m\u001b[0;34m*\u001b[0m\u001b[0mto_rad\u001b[0m \u001b[0;34m)\u001b[0m \u001b[0;34m*\u001b[0m \u001b[0mcos\u001b[0m\u001b[0;34m(\u001b[0m\u001b[0mplat\u001b[0m\u001b[0;34m*\u001b[0m\u001b[0mto_rad\u001b[0m\u001b[0;34m)\u001b[0m\u001b[0;34m\u001b[0m\u001b[0;34m\u001b[0m\u001b[0m\n",
      "\u001b[0;32m~/anaconda2/envs/gonzag/lib/python3.9/site-packages/xarray/core/arithmetic.py\u001b[0m in \u001b[0;36m__array_ufunc__\u001b[0;34m(self, ufunc, method, *inputs, **kwargs)\u001b[0m\n\u001b[1;32m     68\u001b[0m         \u001b[0mjoin\u001b[0m \u001b[0;34m=\u001b[0m \u001b[0mdataset_join\u001b[0m \u001b[0;34m=\u001b[0m \u001b[0mOPTIONS\u001b[0m\u001b[0;34m[\u001b[0m\u001b[0;34m\"arithmetic_join\"\u001b[0m\u001b[0;34m]\u001b[0m\u001b[0;34m\u001b[0m\u001b[0;34m\u001b[0m\u001b[0m\n\u001b[1;32m     69\u001b[0m \u001b[0;34m\u001b[0m\u001b[0m\n\u001b[0;32m---> 70\u001b[0;31m         return apply_ufunc(\n\u001b[0m\u001b[1;32m     71\u001b[0m             \u001b[0mufunc\u001b[0m\u001b[0;34m,\u001b[0m\u001b[0;34m\u001b[0m\u001b[0;34m\u001b[0m\u001b[0m\n\u001b[1;32m     72\u001b[0m             \u001b[0;34m*\u001b[0m\u001b[0minputs\u001b[0m\u001b[0;34m,\u001b[0m\u001b[0;34m\u001b[0m\u001b[0;34m\u001b[0m\u001b[0m\n",
      "\u001b[0;32m~/anaconda2/envs/gonzag/lib/python3.9/site-packages/xarray/core/computation.py\u001b[0m in \u001b[0;36mapply_ufunc\u001b[0;34m(func, input_core_dims, output_core_dims, exclude_dims, vectorize, join, dataset_join, dataset_fill_value, keep_attrs, kwargs, dask, output_dtypes, output_sizes, meta, dask_gufunc_kwargs, *args)\u001b[0m\n\u001b[1;32m   1136\u001b[0m     \u001b[0;31m# feed Variables directly through apply_variable_ufunc\u001b[0m\u001b[0;34m\u001b[0m\u001b[0;34m\u001b[0m\u001b[0;34m\u001b[0m\u001b[0m\n\u001b[1;32m   1137\u001b[0m     \u001b[0;32melif\u001b[0m \u001b[0many\u001b[0m\u001b[0;34m(\u001b[0m\u001b[0misinstance\u001b[0m\u001b[0;34m(\u001b[0m\u001b[0ma\u001b[0m\u001b[0;34m,\u001b[0m \u001b[0mVariable\u001b[0m\u001b[0;34m)\u001b[0m \u001b[0;32mfor\u001b[0m \u001b[0ma\u001b[0m \u001b[0;32min\u001b[0m \u001b[0margs\u001b[0m\u001b[0;34m)\u001b[0m\u001b[0;34m:\u001b[0m\u001b[0;34m\u001b[0m\u001b[0;34m\u001b[0m\u001b[0m\n\u001b[0;32m-> 1138\u001b[0;31m         \u001b[0;32mreturn\u001b[0m \u001b[0mvariables_vfunc\u001b[0m\u001b[0;34m(\u001b[0m\u001b[0;34m*\u001b[0m\u001b[0margs\u001b[0m\u001b[0;34m)\u001b[0m\u001b[0;34m\u001b[0m\u001b[0;34m\u001b[0m\u001b[0m\n\u001b[0m\u001b[1;32m   1139\u001b[0m     \u001b[0;32melse\u001b[0m\u001b[0;34m:\u001b[0m\u001b[0;34m\u001b[0m\u001b[0;34m\u001b[0m\u001b[0m\n\u001b[1;32m   1140\u001b[0m         \u001b[0;31m# feed anything else through apply_array_ufunc\u001b[0m\u001b[0;34m\u001b[0m\u001b[0;34m\u001b[0m\u001b[0;34m\u001b[0m\u001b[0m\n",
      "\u001b[0;32m~/anaconda2/envs/gonzag/lib/python3.9/site-packages/xarray/core/computation.py\u001b[0m in \u001b[0;36mapply_variable_ufunc\u001b[0;34m(func, signature, exclude_dims, dask, output_dtypes, vectorize, keep_attrs, dask_gufunc_kwargs, *args)\u001b[0m\n\u001b[1;32m    741\u001b[0m         \u001b[0mdata\u001b[0m \u001b[0;34m=\u001b[0m \u001b[0mas_compatible_data\u001b[0m\u001b[0;34m(\u001b[0m\u001b[0mdata\u001b[0m\u001b[0;34m)\u001b[0m\u001b[0;34m\u001b[0m\u001b[0;34m\u001b[0m\u001b[0m\n\u001b[1;32m    742\u001b[0m         \u001b[0;32mif\u001b[0m \u001b[0mdata\u001b[0m\u001b[0;34m.\u001b[0m\u001b[0mndim\u001b[0m \u001b[0;34m!=\u001b[0m \u001b[0mlen\u001b[0m\u001b[0;34m(\u001b[0m\u001b[0mdims\u001b[0m\u001b[0;34m)\u001b[0m\u001b[0;34m:\u001b[0m\u001b[0;34m\u001b[0m\u001b[0;34m\u001b[0m\u001b[0m\n\u001b[0;32m--> 743\u001b[0;31m             raise ValueError(\n\u001b[0m\u001b[1;32m    744\u001b[0m                 \u001b[0;34m\"applied function returned data with unexpected \"\u001b[0m\u001b[0;34m\u001b[0m\u001b[0;34m\u001b[0m\u001b[0m\n\u001b[1;32m    745\u001b[0m                 \u001b[0;34mf\"number of dimensions. Received {data.ndim} dimension(s) but \"\u001b[0m\u001b[0;34m\u001b[0m\u001b[0;34m\u001b[0m\u001b[0m\n",
      "\u001b[0;31mValueError\u001b[0m: applied function returned data with unexpected number of dimensions. Received 2 dimension(s) but expected 0 dimensions with names: ()"
     ]
    }
   ],
   "source": [
    "NP = nrpt( )"
   ]
  },
  {
   "cell_type": "code",
   "execution_count": null,
   "id": "fifteen-pound",
   "metadata": {},
   "outputs": [],
   "source": []
  }
 ],
 "metadata": {
  "kernelspec": {
   "display_name": "gonzag",
   "language": "python",
   "name": "gonzag"
  },
  "language_info": {
   "codemirror_mode": {
    "name": "ipython",
    "version": 3
   },
   "file_extension": ".py",
   "mimetype": "text/x-python",
   "name": "python",
   "nbconvert_exporter": "python",
   "pygments_lexer": "ipython3",
   "version": "3.9.2"
  }
 },
 "nbformat": 4,
 "nbformat_minor": 5
}
