{
 "cells": [
  {
   "cell_type": "code",
   "execution_count": 1,
   "id": "acting-filter",
   "metadata": {},
   "outputs": [],
   "source": [
    "import sys\n",
    "from os import getenv\n",
    "import warnings\n",
    "warnings.filterwarnings(\"ignore\")\n",
    "\n",
    "GONZAG_DIR   = getenv('HOME')+'/DEV/gonzag'\n",
    "sys.path.append(GONZAG_DIR)\n",
    "\n",
    "import gonzag as gzg\n",
    "from gonzag.config import ldebug\n",
    "\n",
    "GONZAG_DATA_DIR = '/Users/auraoupa/Work/git/gonzag'\n",
    "\n",
    "# Satellite input data:\n",
    "name_sat = 'Sentinel3A'\n",
    "file_sat = GONZAG_DATA_DIR+'/zarr_SENTINEL3A_20170130-20170303'\n",
    "name_ssh_sat = 'sla_unfiltered'\n",
    "\n",
    "# Model input data:\n",
    "name_mod = 'eNATL60-WestMed'\n",
    "file_mod = GONZAG_DATA_DIR+'/zarr_sossheig_box_WestMed_eNATL60-BLBT02_20170201-20170228'\n",
    "name_ssh_mod = 'sossheig'\n",
    "file_lsm_mod = file_mod; name_lsm_mod = '_FillValue' ; # we use _FillValue attribute of \"nams_ssh_mod\" in \"file_mod\"\n",
    "l_griddist = False ; # grid is not strongly distorded\n",
    "\n",
    "\n",
    "\n"
   ]
  },
  {
   "cell_type": "code",
   "execution_count": 2,
   "id": "executive-lincoln",
   "metadata": {},
   "outputs": [],
   "source": [
    "    (it1,it2), (Nts,Ntm) = gzg.GetEpochTimeOverlap( file_sat , file_mod )\n"
   ]
  },
  {
   "cell_type": "code",
   "execution_count": 3,
   "id": "great-person",
   "metadata": {},
   "outputs": [
    {
     "name": "stdout",
     "output_type": "stream",
     "text": [
      "2017-02-01T00:30:00.000000000 2017-02-28T23:30:00.000000000\n"
     ]
    }
   ],
   "source": [
    "print(it1,it2)"
   ]
  },
  {
   "cell_type": "code",
   "execution_count": 4,
   "id": "technical-display",
   "metadata": {},
   "outputs": [
    {
     "name": "stdout",
     "output_type": "stream",
     "text": [
      "1599082 672\n"
     ]
    }
   ],
   "source": [
    "print(Nts,Ntm)"
   ]
  },
  {
   "cell_type": "code",
   "execution_count": 5,
   "id": "imposed-seafood",
   "metadata": {},
   "outputs": [],
   "source": [
    "ncfile_sat, ncfile_mod = file_sat , file_mod\n"
   ]
  },
  {
   "cell_type": "code",
   "execution_count": 6,
   "id": "electric-corrections",
   "metadata": {},
   "outputs": [],
   "source": [
    "from sys import exit\n",
    "from math import radians, cos, sin, asin, sqrt, pi, tan, log, atan2, copysign\n",
    "import numpy as nmp\n",
    "from gonzag.config import ldebug, R_eq, R_pl, deg2km\n",
    "IsZarr=True"
   ]
  },
  {
   "cell_type": "code",
   "execution_count": 7,
   "id": "rough-prompt",
   "metadata": {},
   "outputs": [],
   "source": [
    "    if not IsZarr:\n",
    "        from gonzag.ncio import GetTimeInfo\n",
    "#        print('import nc')\n",
    "    else:\n",
    "        from gonzag.zarrio import GetTimeInfo\n",
    "#        print('import zarr')\n",
    "    #\n",
    "    nts, range_sat = GetTimeInfo( ncfile_sat )\n",
    "    ntm, range_mod = GetTimeInfo( ncfile_mod )\n",
    "    #\n",
    "    (zt1_s,zt2_s) = range_sat\n",
    "    (zt1_m,zt2_m) = range_mod\n",
    "    if ldebug: print('\\n *** [GetEpochTimeOverlap()] Earliest/latest dates:\\n   => for satellite data:',zt1_s,zt2_s,'\\n   => for model     data:',zt1_m,zt2_m,'\\n')\n",
    "    if (zt1_m >= zt2_s) or (zt1_s >= zt2_m) or (zt2_m <= zt1_s) or (zt2_s <= zt1_m):\n",
    "        MsgExit('No time overlap for Model and Track file')\n"
   ]
  },
  {
   "cell_type": "code",
   "execution_count": 8,
   "id": "spatial-salmon",
   "metadata": {},
   "outputs": [
    {
     "name": "stdout",
     "output_type": "stream",
     "text": [
      "(numpy.datetime64('2017-02-01T00:30:00.000000000'), numpy.datetime64('2017-02-28T23:30:00.000000000')) (1599082, 672)\n"
     ]
    }
   ],
   "source": [
    "print((max(zt1_s, zt1_m), min(zt2_s, zt2_m)), (nts, ntm))"
   ]
  },
  {
   "cell_type": "code",
   "execution_count": 9,
   "id": "animated-bumper",
   "metadata": {},
   "outputs": [
    {
     "name": "stdout",
     "output_type": "stream",
     "text": [
      "2017-02-01T00:30:00.000000000\n"
     ]
    }
   ],
   "source": [
    "print(zt1_m)"
   ]
  },
  {
   "cell_type": "code",
   "execution_count": 10,
   "id": "adverse-activity",
   "metadata": {},
   "outputs": [],
   "source": [
    "import numpy as nmp\n",
    "import xarray as xr\n",
    "from calendar import timegm\n",
    "from datetime import datetime as dtm\n",
    "from gonzag.config import ldebug, ivrb, rmissval\n",
    "from gonzag.utils  import MsgExit\n"
   ]
  },
  {
   "cell_type": "code",
   "execution_count": 11,
   "id": "designing-column",
   "metadata": {},
   "outputs": [],
   "source": [
    "ncfile=ncfile_sat"
   ]
  },
  {
   "cell_type": "code",
   "execution_count": 12,
   "id": "advised-siemens",
   "metadata": {},
   "outputs": [],
   "source": [
    "    if ldebug: print(' *** [GetTimeInfo()] Getting calendar/time info in '+ncfile+' ...')\n",
    "    id_f = xr.open_zarr(ncfile)\n",
    "    for cd in [ 'time', 'time_counter', 'TIME', 'record', 't', 'none' ]:\n",
    "        if cd in id_f.coords: break\n",
    "    if cd == 'none': MsgExit('found no time-record dimension in file '+ncfile)\n",
    "    if ldebug: print('   => time/record dimension is \"'+cd+'\"')\n",
    "    nt = id_f[cd].size\n",
    "    clndr = id_f[cd]\n",
    "    dt1 = clndr[0]\n",
    "    dt2 = clndr[nt-1]\n",
    "    id_f.close()\n"
   ]
  },
  {
   "cell_type": "code",
   "execution_count": 13,
   "id": "imported-robert",
   "metadata": {},
   "outputs": [],
   "source": [
    "id_f = xr.open_zarr(ncfile,decode_cf=False)\n"
   ]
  },
  {
   "cell_type": "code",
   "execution_count": 14,
   "id": "sunset-craft",
   "metadata": {},
   "outputs": [
    {
     "data": {
      "text/plain": [
       "'time'"
      ]
     },
     "execution_count": 14,
     "metadata": {},
     "output_type": "execute_result"
    }
   ],
   "source": [
    "cd"
   ]
  },
  {
   "cell_type": "code",
   "execution_count": 15,
   "id": "western-survival",
   "metadata": {},
   "outputs": [
    {
     "data": {
      "text/html": [
       "<div><svg style=\"position: absolute; width: 0; height: 0; overflow: hidden\">\n",
       "<defs>\n",
       "<symbol id=\"icon-database\" viewBox=\"0 0 32 32\">\n",
       "<path d=\"M16 0c-8.837 0-16 2.239-16 5v4c0 2.761 7.163 5 16 5s16-2.239 16-5v-4c0-2.761-7.163-5-16-5z\"></path>\n",
       "<path d=\"M16 17c-8.837 0-16-2.239-16-5v6c0 2.761 7.163 5 16 5s16-2.239 16-5v-6c0 2.761-7.163 5-16 5z\"></path>\n",
       "<path d=\"M16 26c-8.837 0-16-2.239-16-5v6c0 2.761 7.163 5 16 5s16-2.239 16-5v-6c0 2.761-7.163 5-16 5z\"></path>\n",
       "</symbol>\n",
       "<symbol id=\"icon-file-text2\" viewBox=\"0 0 32 32\">\n",
       "<path d=\"M28.681 7.159c-0.694-0.947-1.662-2.053-2.724-3.116s-2.169-2.030-3.116-2.724c-1.612-1.182-2.393-1.319-2.841-1.319h-15.5c-1.378 0-2.5 1.121-2.5 2.5v27c0 1.378 1.122 2.5 2.5 2.5h23c1.378 0 2.5-1.122 2.5-2.5v-19.5c0-0.448-0.137-1.23-1.319-2.841zM24.543 5.457c0.959 0.959 1.712 1.825 2.268 2.543h-4.811v-4.811c0.718 0.556 1.584 1.309 2.543 2.268zM28 29.5c0 0.271-0.229 0.5-0.5 0.5h-23c-0.271 0-0.5-0.229-0.5-0.5v-27c0-0.271 0.229-0.5 0.5-0.5 0 0 15.499-0 15.5 0v7c0 0.552 0.448 1 1 1h7v19.5z\"></path>\n",
       "<path d=\"M23 26h-14c-0.552 0-1-0.448-1-1s0.448-1 1-1h14c0.552 0 1 0.448 1 1s-0.448 1-1 1z\"></path>\n",
       "<path d=\"M23 22h-14c-0.552 0-1-0.448-1-1s0.448-1 1-1h14c0.552 0 1 0.448 1 1s-0.448 1-1 1z\"></path>\n",
       "<path d=\"M23 18h-14c-0.552 0-1-0.448-1-1s0.448-1 1-1h14c0.552 0 1 0.448 1 1s-0.448 1-1 1z\"></path>\n",
       "</symbol>\n",
       "</defs>\n",
       "</svg>\n",
       "<style>/* CSS stylesheet for displaying xarray objects in jupyterlab.\n",
       " *\n",
       " */\n",
       "\n",
       ":root {\n",
       "  --xr-font-color0: var(--jp-content-font-color0, rgba(0, 0, 0, 1));\n",
       "  --xr-font-color2: var(--jp-content-font-color2, rgba(0, 0, 0, 0.54));\n",
       "  --xr-font-color3: var(--jp-content-font-color3, rgba(0, 0, 0, 0.38));\n",
       "  --xr-border-color: var(--jp-border-color2, #e0e0e0);\n",
       "  --xr-disabled-color: var(--jp-layout-color3, #bdbdbd);\n",
       "  --xr-background-color: var(--jp-layout-color0, white);\n",
       "  --xr-background-color-row-even: var(--jp-layout-color1, white);\n",
       "  --xr-background-color-row-odd: var(--jp-layout-color2, #eeeeee);\n",
       "}\n",
       "\n",
       "html[theme=dark],\n",
       "body.vscode-dark {\n",
       "  --xr-font-color0: rgba(255, 255, 255, 1);\n",
       "  --xr-font-color2: rgba(255, 255, 255, 0.54);\n",
       "  --xr-font-color3: rgba(255, 255, 255, 0.38);\n",
       "  --xr-border-color: #1F1F1F;\n",
       "  --xr-disabled-color: #515151;\n",
       "  --xr-background-color: #111111;\n",
       "  --xr-background-color-row-even: #111111;\n",
       "  --xr-background-color-row-odd: #313131;\n",
       "}\n",
       "\n",
       ".xr-wrap {\n",
       "  display: block;\n",
       "  min-width: 300px;\n",
       "  max-width: 700px;\n",
       "}\n",
       "\n",
       ".xr-text-repr-fallback {\n",
       "  /* fallback to plain text repr when CSS is not injected (untrusted notebook) */\n",
       "  display: none;\n",
       "}\n",
       "\n",
       ".xr-header {\n",
       "  padding-top: 6px;\n",
       "  padding-bottom: 6px;\n",
       "  margin-bottom: 4px;\n",
       "  border-bottom: solid 1px var(--xr-border-color);\n",
       "}\n",
       "\n",
       ".xr-header > div,\n",
       ".xr-header > ul {\n",
       "  display: inline;\n",
       "  margin-top: 0;\n",
       "  margin-bottom: 0;\n",
       "}\n",
       "\n",
       ".xr-obj-type,\n",
       ".xr-array-name {\n",
       "  margin-left: 2px;\n",
       "  margin-right: 10px;\n",
       "}\n",
       "\n",
       ".xr-obj-type {\n",
       "  color: var(--xr-font-color2);\n",
       "}\n",
       "\n",
       ".xr-sections {\n",
       "  padding-left: 0 !important;\n",
       "  display: grid;\n",
       "  grid-template-columns: 150px auto auto 1fr 20px 20px;\n",
       "}\n",
       "\n",
       ".xr-section-item {\n",
       "  display: contents;\n",
       "}\n",
       "\n",
       ".xr-section-item input {\n",
       "  display: none;\n",
       "}\n",
       "\n",
       ".xr-section-item input + label {\n",
       "  color: var(--xr-disabled-color);\n",
       "}\n",
       "\n",
       ".xr-section-item input:enabled + label {\n",
       "  cursor: pointer;\n",
       "  color: var(--xr-font-color2);\n",
       "}\n",
       "\n",
       ".xr-section-item input:enabled + label:hover {\n",
       "  color: var(--xr-font-color0);\n",
       "}\n",
       "\n",
       ".xr-section-summary {\n",
       "  grid-column: 1;\n",
       "  color: var(--xr-font-color2);\n",
       "  font-weight: 500;\n",
       "}\n",
       "\n",
       ".xr-section-summary > span {\n",
       "  display: inline-block;\n",
       "  padding-left: 0.5em;\n",
       "}\n",
       "\n",
       ".xr-section-summary-in:disabled + label {\n",
       "  color: var(--xr-font-color2);\n",
       "}\n",
       "\n",
       ".xr-section-summary-in + label:before {\n",
       "  display: inline-block;\n",
       "  content: '►';\n",
       "  font-size: 11px;\n",
       "  width: 15px;\n",
       "  text-align: center;\n",
       "}\n",
       "\n",
       ".xr-section-summary-in:disabled + label:before {\n",
       "  color: var(--xr-disabled-color);\n",
       "}\n",
       "\n",
       ".xr-section-summary-in:checked + label:before {\n",
       "  content: '▼';\n",
       "}\n",
       "\n",
       ".xr-section-summary-in:checked + label > span {\n",
       "  display: none;\n",
       "}\n",
       "\n",
       ".xr-section-summary,\n",
       ".xr-section-inline-details {\n",
       "  padding-top: 4px;\n",
       "  padding-bottom: 4px;\n",
       "}\n",
       "\n",
       ".xr-section-inline-details {\n",
       "  grid-column: 2 / -1;\n",
       "}\n",
       "\n",
       ".xr-section-details {\n",
       "  display: none;\n",
       "  grid-column: 1 / -1;\n",
       "  margin-bottom: 5px;\n",
       "}\n",
       "\n",
       ".xr-section-summary-in:checked ~ .xr-section-details {\n",
       "  display: contents;\n",
       "}\n",
       "\n",
       ".xr-array-wrap {\n",
       "  grid-column: 1 / -1;\n",
       "  display: grid;\n",
       "  grid-template-columns: 20px auto;\n",
       "}\n",
       "\n",
       ".xr-array-wrap > label {\n",
       "  grid-column: 1;\n",
       "  vertical-align: top;\n",
       "}\n",
       "\n",
       ".xr-preview {\n",
       "  color: var(--xr-font-color3);\n",
       "}\n",
       "\n",
       ".xr-array-preview,\n",
       ".xr-array-data {\n",
       "  padding: 0 5px !important;\n",
       "  grid-column: 2;\n",
       "}\n",
       "\n",
       ".xr-array-data,\n",
       ".xr-array-in:checked ~ .xr-array-preview {\n",
       "  display: none;\n",
       "}\n",
       "\n",
       ".xr-array-in:checked ~ .xr-array-data,\n",
       ".xr-array-preview {\n",
       "  display: inline-block;\n",
       "}\n",
       "\n",
       ".xr-dim-list {\n",
       "  display: inline-block !important;\n",
       "  list-style: none;\n",
       "  padding: 0 !important;\n",
       "  margin: 0;\n",
       "}\n",
       "\n",
       ".xr-dim-list li {\n",
       "  display: inline-block;\n",
       "  padding: 0;\n",
       "  margin: 0;\n",
       "}\n",
       "\n",
       ".xr-dim-list:before {\n",
       "  content: '(';\n",
       "}\n",
       "\n",
       ".xr-dim-list:after {\n",
       "  content: ')';\n",
       "}\n",
       "\n",
       ".xr-dim-list li:not(:last-child):after {\n",
       "  content: ',';\n",
       "  padding-right: 5px;\n",
       "}\n",
       "\n",
       ".xr-has-index {\n",
       "  font-weight: bold;\n",
       "}\n",
       "\n",
       ".xr-var-list,\n",
       ".xr-var-item {\n",
       "  display: contents;\n",
       "}\n",
       "\n",
       ".xr-var-item > div,\n",
       ".xr-var-item label,\n",
       ".xr-var-item > .xr-var-name span {\n",
       "  background-color: var(--xr-background-color-row-even);\n",
       "  margin-bottom: 0;\n",
       "}\n",
       "\n",
       ".xr-var-item > .xr-var-name:hover span {\n",
       "  padding-right: 5px;\n",
       "}\n",
       "\n",
       ".xr-var-list > li:nth-child(odd) > div,\n",
       ".xr-var-list > li:nth-child(odd) > label,\n",
       ".xr-var-list > li:nth-child(odd) > .xr-var-name span {\n",
       "  background-color: var(--xr-background-color-row-odd);\n",
       "}\n",
       "\n",
       ".xr-var-name {\n",
       "  grid-column: 1;\n",
       "}\n",
       "\n",
       ".xr-var-dims {\n",
       "  grid-column: 2;\n",
       "}\n",
       "\n",
       ".xr-var-dtype {\n",
       "  grid-column: 3;\n",
       "  text-align: right;\n",
       "  color: var(--xr-font-color2);\n",
       "}\n",
       "\n",
       ".xr-var-preview {\n",
       "  grid-column: 4;\n",
       "}\n",
       "\n",
       ".xr-var-name,\n",
       ".xr-var-dims,\n",
       ".xr-var-dtype,\n",
       ".xr-preview,\n",
       ".xr-attrs dt {\n",
       "  white-space: nowrap;\n",
       "  overflow: hidden;\n",
       "  text-overflow: ellipsis;\n",
       "  padding-right: 10px;\n",
       "}\n",
       "\n",
       ".xr-var-name:hover,\n",
       ".xr-var-dims:hover,\n",
       ".xr-var-dtype:hover,\n",
       ".xr-attrs dt:hover {\n",
       "  overflow: visible;\n",
       "  width: auto;\n",
       "  z-index: 1;\n",
       "}\n",
       "\n",
       ".xr-var-attrs,\n",
       ".xr-var-data {\n",
       "  display: none;\n",
       "  background-color: var(--xr-background-color) !important;\n",
       "  padding-bottom: 5px !important;\n",
       "}\n",
       "\n",
       ".xr-var-attrs-in:checked ~ .xr-var-attrs,\n",
       ".xr-var-data-in:checked ~ .xr-var-data {\n",
       "  display: block;\n",
       "}\n",
       "\n",
       ".xr-var-data > table {\n",
       "  float: right;\n",
       "}\n",
       "\n",
       ".xr-var-name span,\n",
       ".xr-var-data,\n",
       ".xr-attrs {\n",
       "  padding-left: 25px !important;\n",
       "}\n",
       "\n",
       ".xr-attrs,\n",
       ".xr-var-attrs,\n",
       ".xr-var-data {\n",
       "  grid-column: 1 / -1;\n",
       "}\n",
       "\n",
       "dl.xr-attrs {\n",
       "  padding: 0;\n",
       "  margin: 0;\n",
       "  display: grid;\n",
       "  grid-template-columns: 125px auto;\n",
       "}\n",
       "\n",
       ".xr-attrs dt,\n",
       ".xr-attrs dd {\n",
       "  padding: 0;\n",
       "  margin: 0;\n",
       "  float: left;\n",
       "  padding-right: 10px;\n",
       "  width: auto;\n",
       "}\n",
       "\n",
       ".xr-attrs dt {\n",
       "  font-weight: normal;\n",
       "  grid-column: 1;\n",
       "}\n",
       "\n",
       ".xr-attrs dt:hover span {\n",
       "  display: inline-block;\n",
       "  background: var(--xr-background-color);\n",
       "  padding-right: 10px;\n",
       "}\n",
       "\n",
       ".xr-attrs dd {\n",
       "  grid-column: 2;\n",
       "  white-space: pre-wrap;\n",
       "  word-break: break-all;\n",
       "}\n",
       "\n",
       ".xr-icon-database,\n",
       ".xr-icon-file-text2 {\n",
       "  display: inline-block;\n",
       "  vertical-align: middle;\n",
       "  width: 1em;\n",
       "  height: 1.5em !important;\n",
       "  stroke-width: 0;\n",
       "  stroke: currentColor;\n",
       "  fill: currentColor;\n",
       "}\n",
       "</style><pre class='xr-text-repr-fallback'>&lt;xarray.DataArray &#x27;time&#x27; (time: 1599082)&gt;\n",
       "array([24500.989341, 24500.989352, 24500.989364, ..., 24534.993906,\n",
       "       24534.993918, 24534.99393 ])\n",
       "Coordinates:\n",
       "  * time     (time) float64 2.45e+04 2.45e+04 2.45e+04 ... 2.453e+04 2.453e+04\n",
       "Attributes:\n",
       "    axis:           T\n",
       "    calendar:       gregorian\n",
       "    long_name:      Time of measurement\n",
       "    standard_name:  time\n",
       "    units:          days since 1950-01-01 00:00:00\n",
       "    _FillValue:     nan</pre><div class='xr-wrap' hidden><div class='xr-header'><div class='xr-obj-type'>xarray.DataArray</div><div class='xr-array-name'>'time'</div><ul class='xr-dim-list'><li><span class='xr-has-index'>time</span>: 1599082</li></ul></div><ul class='xr-sections'><li class='xr-section-item'><div class='xr-array-wrap'><input id='section-03aad5d3-adfe-4ef7-a921-54281c4dac08' class='xr-array-in' type='checkbox' checked><label for='section-03aad5d3-adfe-4ef7-a921-54281c4dac08' title='Show/hide data repr'><svg class='icon xr-icon-database'><use xlink:href='#icon-database'></use></svg></label><div class='xr-array-preview xr-preview'><span>2.45e+04 2.45e+04 2.45e+04 2.45e+04 ... 2.453e+04 2.453e+04 2.453e+04</span></div><div class='xr-array-data'><pre>array([24500.989341, 24500.989352, 24500.989364, ..., 24534.993906,\n",
       "       24534.993918, 24534.99393 ])</pre></div></div></li><li class='xr-section-item'><input id='section-d2233e66-a314-4d35-b3ae-562887311b99' class='xr-section-summary-in' type='checkbox'  checked><label for='section-d2233e66-a314-4d35-b3ae-562887311b99' class='xr-section-summary' >Coordinates: <span>(1)</span></label><div class='xr-section-inline-details'></div><div class='xr-section-details'><ul class='xr-var-list'><li class='xr-var-item'><div class='xr-var-name'><span class='xr-has-index'>time</span></div><div class='xr-var-dims'>(time)</div><div class='xr-var-dtype'>float64</div><div class='xr-var-preview xr-preview'>2.45e+04 2.45e+04 ... 2.453e+04</div><input id='attrs-71ed11f4-603d-4feb-9aaa-90ef538e8013' class='xr-var-attrs-in' type='checkbox' ><label for='attrs-71ed11f4-603d-4feb-9aaa-90ef538e8013' title='Show/Hide attributes'><svg class='icon xr-icon-file-text2'><use xlink:href='#icon-file-text2'></use></svg></label><input id='data-3f9db19d-a4b9-4257-b0ce-29bb4b9c4ba1' class='xr-var-data-in' type='checkbox'><label for='data-3f9db19d-a4b9-4257-b0ce-29bb4b9c4ba1' title='Show/Hide data repr'><svg class='icon xr-icon-database'><use xlink:href='#icon-database'></use></svg></label><div class='xr-var-attrs'><dl class='xr-attrs'><dt><span>axis :</span></dt><dd>T</dd><dt><span>calendar :</span></dt><dd>gregorian</dd><dt><span>long_name :</span></dt><dd>Time of measurement</dd><dt><span>standard_name :</span></dt><dd>time</dd><dt><span>units :</span></dt><dd>days since 1950-01-01 00:00:00</dd><dt><span>_FillValue :</span></dt><dd>nan</dd></dl></div><div class='xr-var-data'><pre>array([24500.989341, 24500.989352, 24500.989364, ..., 24534.993906,\n",
       "       24534.993918, 24534.99393 ])</pre></div></li></ul></div></li><li class='xr-section-item'><input id='section-bf992b5a-ceaa-4e49-b1c7-2c7c7d6d5437' class='xr-section-summary-in' type='checkbox'  checked><label for='section-bf992b5a-ceaa-4e49-b1c7-2c7c7d6d5437' class='xr-section-summary' >Attributes: <span>(6)</span></label><div class='xr-section-inline-details'></div><div class='xr-section-details'><dl class='xr-attrs'><dt><span>axis :</span></dt><dd>T</dd><dt><span>calendar :</span></dt><dd>gregorian</dd><dt><span>long_name :</span></dt><dd>Time of measurement</dd><dt><span>standard_name :</span></dt><dd>time</dd><dt><span>units :</span></dt><dd>days since 1950-01-01 00:00:00</dd><dt><span>_FillValue :</span></dt><dd>nan</dd></dl></div></li></ul></div></div>"
      ],
      "text/plain": [
       "<xarray.DataArray 'time' (time: 1599082)>\n",
       "array([24500.989341, 24500.989352, 24500.989364, ..., 24534.993906,\n",
       "       24534.993918, 24534.99393 ])\n",
       "Coordinates:\n",
       "  * time     (time) float64 2.45e+04 2.45e+04 2.45e+04 ... 2.453e+04 2.453e+04\n",
       "Attributes:\n",
       "    axis:           T\n",
       "    calendar:       gregorian\n",
       "    long_name:      Time of measurement\n",
       "    standard_name:  time\n",
       "    units:          days since 1950-01-01 00:00:00\n",
       "    _FillValue:     nan"
      ]
     },
     "execution_count": 15,
     "metadata": {},
     "output_type": "execute_result"
    }
   ],
   "source": [
    "id_f[cd]"
   ]
  },
  {
   "cell_type": "code",
   "execution_count": 16,
   "id": "occupational-jumping",
   "metadata": {},
   "outputs": [
    {
     "name": "stdout",
     "output_type": "stream",
     "text": [
      "1599082 (numpy.datetime64('2017-01-29T23:44:39.027517696'), numpy.datetime64('2017-03-04T23:51:15.516345088'))\n"
     ]
    }
   ],
   "source": [
    "print(nt, (dt1.values,dt2.values))"
   ]
  },
  {
   "cell_type": "code",
   "execution_count": 17,
   "id": "protecting-chancellor",
   "metadata": {},
   "outputs": [
    {
     "data": {
      "text/plain": [
       "numpy.datetime64('2017-01-29T23:44:39.027517696')"
      ]
     },
     "execution_count": 17,
     "metadata": {},
     "output_type": "execute_result"
    }
   ],
   "source": [
    "dt1.values"
   ]
  },
  {
   "cell_type": "code",
   "execution_count": 18,
   "id": "alpine-breeding",
   "metadata": {},
   "outputs": [],
   "source": [
    "def ToEpochTime( vt, units, calendar ):\n",
    "    '''\n",
    "    # INPUT:\n",
    "    #   * vt: time vector provided as something like: \"days since ...\"\n",
    "    #   * units, calendar:\n",
    "    #\n",
    "    # OUTPUT:\n",
    "    #   * vet: time vector converted to UNIX epoch time,\n",
    "    #          aka \"seconds since 1970-01-01 00:00:00\"\n",
    "    #          => as FLOAT !! not INTEGER !!!\n",
    "    '''\n",
    "    cfrmt = '%Y-%m-%d %H:%M:%S'\n",
    "    #\n",
    "    lvect = not (nmp.shape(vt)==())\n",
    "    #\n",
    "    if lvect:\n",
    "        nt = len(vt)\n",
    "        t0 = vt[0]\n",
    "    else:\n",
    "        t0 = vt\n",
    "    if ivrb>0: print(' *** [ToEpochTime()]: original t0 as \"'+units+'\" => ', t0)\n",
    "    t0d = num2date( t0, units, calendar )\n",
    "    if ivrb>0: print(' *** [ToEpochTime()]: intitial date in datetime format => ', t0d)\n",
    "\n",
    "    # We need to round this to the nearest second, because our target format is Epoch time (seconds since 1970)\n",
    "    # and we want an integer!\n",
    "    rdec = t0d.microsecond*1.E-6\n",
    "    # t0 as \"float\" UNIX time:\n",
    "    t0E = float( timegm( dtm.strptime( t0d.strftime(cfrmt) , cfrmt ).timetuple() ) + rdec )\n",
    "\n",
    "    if lvect:\n",
    "        # we are not going to convert the whole array but instead:\n",
    "        if   units[0:10] == 'days since':\n",
    "            vdt = (vt[1:] - vt[0])*86400.\n",
    "        elif units[0:11] == 'hours since':\n",
    "            vdt = (vt[1:] - vt[0])*3600.\n",
    "        elif units[0:13] == 'seconds since':\n",
    "            vdt =  vt[1:] - vt[0]\n",
    "        else:\n",
    "            MsgExit('[ToEpochTime()] => unknown time unit: '+units)\n",
    "        vet = nmp.zeros(nt)\n",
    "        vet[0]  = t0E\n",
    "        vet[1:] = t0E + vdt[:]\n",
    "        del vdt\n",
    "    else:\n",
    "        vet = t0E\n",
    "    #\n",
    "    return vet\n"
   ]
  },
  {
   "cell_type": "code",
   "execution_count": 31,
   "id": "decreased-poland",
   "metadata": {},
   "outputs": [],
   "source": [
    "from netCDF4 import num2date, default_fillvals\n"
   ]
  },
  {
   "cell_type": "code",
   "execution_count": 32,
   "id": "virtual-speaker",
   "metadata": {},
   "outputs": [],
   "source": [
    "    if ldebug: print(' *** [GetTimeInfo()] Getting calendar/time info in '+ncfile+' ...')\n",
    "    id_f = xr.open_zarr(ncfile,decode_cf=False)\n",
    "    for cd in [ 'time', 'time_counter', 'TIME', 'record', 't', 'none' ]:\n",
    "        if cd in id_f.coords: break\n",
    "    if cd == 'none': MsgExit('found no time-record dimension in file '+ncfile)\n",
    "    if ldebug: print('   => time/record dimension is \"'+cd+'\"')\n",
    "    nt = id_f[cd].size    \n",
    "    clndr = id_f[cd]\n",
    "    rt1 = ToEpochTime( clndr[0],    clndr.units, clndr.calendar )\n",
    "    rt2 = ToEpochTime( clndr[nt-1], clndr.units, clndr.calendar )    \n"
   ]
  },
  {
   "cell_type": "code",
   "execution_count": 30,
   "id": "vital-blocking",
   "metadata": {},
   "outputs": [
    {
     "data": {
      "text/plain": [
       "'days since 1950-01-01 00:00:00'"
      ]
     },
     "execution_count": 30,
     "metadata": {},
     "output_type": "execute_result"
    }
   ],
   "source": [
    "clndr.attrs['units']"
   ]
  },
  {
   "cell_type": "code",
   "execution_count": 34,
   "id": "alien-safety",
   "metadata": {},
   "outputs": [
    {
     "name": "stdout",
     "output_type": "stream",
     "text": [
      "1488671475.516345\n"
     ]
    }
   ],
   "source": [
    "print(rt2)"
   ]
  },
  {
   "cell_type": "code",
   "execution_count": null,
   "id": "sustained-pantyhose",
   "metadata": {},
   "outputs": [],
   "source": []
  }
 ],
 "metadata": {
  "kernelspec": {
   "display_name": "gonzag",
   "language": "python",
   "name": "gonzag"
  },
  "language_info": {
   "codemirror_mode": {
    "name": "ipython",
    "version": 3
   },
   "file_extension": ".py",
   "mimetype": "text/x-python",
   "name": "python",
   "nbconvert_exporter": "python",
   "pygments_lexer": "ipython3",
   "version": "3.9.2"
  }
 },
 "nbformat": 4,
 "nbformat_minor": 5
}
