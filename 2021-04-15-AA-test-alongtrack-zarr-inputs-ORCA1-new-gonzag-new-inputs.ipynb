{
 "cells": [
  {
   "cell_type": "code",
   "execution_count": 1,
   "id": "apart-expense",
   "metadata": {},
   "outputs": [],
   "source": [
    "import gonzag as gz\n",
    "from gonzag.config import ldebug\n"
   ]
  },
  {
   "cell_type": "code",
   "execution_count": 2,
   "id": "found-insight",
   "metadata": {},
   "outputs": [],
   "source": [
    "file_sat = '/Users/auraoupa/Work/git/gonzag/zarr_SENTINEL3A_20170130-20170303'\n",
    "name_ssh_sat = 'sla_unfiltered'\n",
    "file_mod = '/Users/auraoupa/Work/git/gonzag/zarr_sossheig_box_WestMed_eNATL60-BLBT02_20170201-20170228'\n",
    "name_ssh_mod = 'sossheig'\n",
    "file_lsm_mod = '/Users/auraoupa/Work/git/gonzag/zarr_sossheig_box_WestMed_eNATL60-BLBT02_20170201-20170228'\n",
    "name_lsm_mod = '_FillValue'"
   ]
  },
  {
   "cell_type": "code",
   "execution_count": 3,
   "id": "reverse-former",
   "metadata": {},
   "outputs": [],
   "source": [
    "(it1,it2), (Nts,Ntm) = gz.GetEpochTimeOverlap( file_sat , file_mod )"
   ]
  },
  {
   "cell_type": "code",
   "execution_count": 4,
   "id": "illegal-alpha",
   "metadata": {},
   "outputs": [
    {
     "name": "stdout",
     "output_type": "stream",
     "text": [
      " *** Time overlap between model and satellite in UNIX epoch time: it1, it2 1485909000.0 -- 1488324600.0\n",
      "   => UTC: \"1485909000.0\" to \"1488324600.0\"\n",
      "\n",
      "\n",
      "\n",
      "\n",
      " #####   M O D E L   2 D + T   D O M A I N   a.k.a.  S O U R C E   #####\n",
      "\n"
     ]
    }
   ],
   "source": [
    "    print(' *** Time overlap between model and satellite in UNIX epoch time: it1, it2', it1,'--',it2)\n",
    "    print('   => UTC: \"'+str(it1)+'\" to \"'+str(it2)+'\"\\n')\n",
    "\n",
    "\n",
    "    print('\\n\\n\\n #####   M O D E L   2 D + T   D O M A I N   a.k.a.  S O U R C E   #####\\n')\n",
    "\n"
   ]
  },
  {
   "cell_type": "code",
   "execution_count": 5,
   "id": "pediatric-richards",
   "metadata": {},
   "outputs": [],
   "source": [
    "clsm = name_lsm_mod\n",
    "if name_lsm_mod=='_FillValue': clsm = name_lsm_mod+'@'+name_ssh_mod"
   ]
  },
  {
   "cell_type": "code",
   "execution_count": 6,
   "id": "valuable-birthday",
   "metadata": {},
   "outputs": [
    {
     "name": "stdout",
     "output_type": "stream",
     "text": [
      " *** Model latitude var is: \"gphit\" ! with 2 dimensions! (796, 868) \n",
      "\n",
      " *** Model longitude var is: \"glamt\" ! with 2 dimensions! (796, 868) \n",
      "\n",
      "\n",
      " *** what we use to define model land-sea mask:\n",
      "    => \"_FillValue@sossheig\" in \"/Users/auraoupa/Work/git/gonzag/zarr_sossheig_box_WestMed_eNATL60-BLBT02_20170201-20170228\"\n",
      "\n",
      " *** Skipping computation of angle distortion of the model grid! (\"-D\" option not invoked)...\n",
      "\n",
      " *** About model gridded (source) domain:\n",
      "     * shape =  (796, 868)\n",
      "     * horizontal resolution:  0.016753984549605475  degrees or  1.8615352233066644  km\n",
      "     * Is this a global domain w.r.t longitude:  False\n",
      "       ==> this is a regional domain\n",
      "       ==> working in the [-180:180] frame...\n",
      "     * lon_min, lon_max =  -5.5 9.53\n",
      "     * lat_min, lat_max =  34.91 45.1\n",
      "     * should we pay attention to possible STRONG local distorsion in the grid:  False\n",
      "     * number of time records of interest for the interpolation to come:  672\n",
      "       ==> time record indices: 0 to 671, included\n",
      "\n"
     ]
    }
   ],
   "source": [
    "ModelGrid = gz.ModGrid( file_mod, it1, it2, file_lsm_mod, clsm )"
   ]
  },
  {
   "cell_type": "code",
   "execution_count": 7,
   "id": "complicated-answer",
   "metadata": {},
   "outputs": [
    {
     "name": "stdout",
     "output_type": "stream",
     "text": [
      "\n",
      "\n",
      "\n",
      " #####   S A T E L L I T E   1 D   T R A C K   a.k.a.  T A R G E T   #####\n",
      "\n",
      " *** [SatTrack()] Analyzing the time vector in /Users/auraoupa/Work/git/gonzag/zarr_SENTINEL3A_20170130-20170303 ...\n",
      "\n",
      " *** About satellite track (target) domain:\n",
      "     * number of time records of interest for the interpolation to come:  2452\n",
      "       ==> time record indices: 95570 to 1410931, included\n",
      "\n"
     ]
    }
   ],
   "source": [
    "    print('\\n\\n\\n #####   S A T E L L I T E   1 D   T R A C K   a.k.a.  T A R G E T   #####\\n')\n",
    "\n",
    "    SatelliteTrack = gz.SatTrack( file_sat, it1, it2, Np=Nts, \\\n",
    "                                  domain_bounds=ModelGrid.domain_bounds, l_0_360=ModelGrid.l360 )\n"
   ]
  },
  {
   "cell_type": "code",
   "execution_count": 8,
   "id": "rapid-saskatchewan",
   "metadata": {},
   "outputs": [
    {
     "name": "stdout",
     "output_type": "stream",
     "text": [
      " *** \"found\" distance criterion when searching for nearest point on model grid is  1.3961514174799983  km\n",
      "\n",
      " *** Will use zoom boxes of width of 269 points for 1st attempts of nearest-point location...\n",
      "\n",
      "\n",
      " *** Finding nearest points on source (model) grid... (rd_found_km, np_box_r = 1.3961514174799983 134 )\n",
      "      +++ Treated point: 245/2452 \n",
      "          ==> Sat. coordinates:     39.966 2.321\n",
      "          ==> Model nearest point:  39.963 2.32  ( 388 459 )\n",
      "      +++ Treated point: 490/2452 \n",
      "          ==> Sat. coordinates:     41.698 3.973\n",
      "          ==> Model nearest point:  41.697 3.98  ( 536 552 )\n",
      "      +++ Treated point: 735/2452 \n",
      "          ==> Sat. coordinates:     44.73 -2.725\n",
      "          ==> Model nearest point:  44.729 357.279  ( 771 142 )\n",
      "      +++ Treated point: 980/2452 \n",
      "          ==> Sat. coordinates:     37.188 3.302\n",
      "          ==> Model nearest point:  37.192 3.303  ( 169 524 )\n",
      "      +++ Treated point: 1225/2452 \n",
      "          ==> Sat. coordinates:     42.166 5.873\n",
      "          ==> Model nearest point:  42.165 5.88  ( 582 663 )\n",
      "      +++ Treated point: 1470/2452 \n",
      "          ==> Sat. coordinates:     36.433 -1.606\n",
      "          ==> Model nearest point:  36.429 358.402  ( 104 232 )\n",
      "      +++ Treated point: 1715/2452 \n",
      "          ==> Sat. coordinates:     40.942 7.971\n",
      "          ==> Model nearest point:  40.947 7.98  ( 485 793 )\n",
      "      +++ Treated point: 1960/2452 \n",
      "          ==> Sat. coordinates:     39.726 6.918\n",
      "          ==> Model nearest point:  39.73 6.919  ( 380 734 )\n",
      "      +++ Treated point: 2205/2452 \n",
      "          ==> Sat. coordinates:     36.971 0.43\n",
      "          ==> Model nearest point:  36.972 0.438  ( 148 353 )\n",
      "      +++ Treated point: 2450/2452 \n",
      "          ==> Sat. coordinates:     41.596 3.073\n",
      "          ==> Model nearest point:  41.599 3.065  ( 525 498 )\n",
      "     ***    Done! *** \n",
      "\n",
      "  *** Determining source meshes...\n",
      "     ***    Done! *** \n",
      "\n",
      "  *** Computing bilinear weights...\n",
      "     ***    Done! *** \n",
      "\n",
      "\n",
      " *** Starting space-time interpolation of model data onto the 2452 selected track points...\n",
      "      jt = 00000 => satelite time = 1485942964.0724192\n",
      "      jt = 00245 => satelite time = 1486203583.4922397\n",
      "      jt = 00490 => satelite time = 1486329188.5662448\n",
      "      jt = 00735 => satelite time = 1486589787.0116987\n",
      "      jt = 00980 => satelite time = 1486894381.834026\n",
      "      jt = 01225 => satelite time = 1487239671.933983\n",
      "      jt = 01470 => satelite time = 1487500316.2421162\n",
      "      jt = 01715 => satelite time = 1487710676.7843397\n",
      "      jt = 01960 => satelite time = 1487930464.2327726\n",
      "      jt = 02205 => satelite time = 1488191057.8642042\n",
      "      jt = 02450 => satelite time = 1488316609.8558357\n",
      " *** Space-time interpolation done!\n",
      "\n",
      "\n",
      " *** Time report:\n",
      "     - Construction of the source-target bilinear mapping took: 13.0 s\n",
      "     - Interpolation of model data on the 2452 satellite points took: 197.0 s \n",
      "\n"
     ]
    }
   ],
   "source": [
    "ii = gz.Model2SatTrack( ModelGrid, name_ssh_mod, SatelliteTrack, name_ssh_sat )\n"
   ]
  },
  {
   "cell_type": "code",
   "execution_count": null,
   "id": "increasing-crawford",
   "metadata": {},
   "outputs": [],
   "source": []
  }
 ],
 "metadata": {
  "kernelspec": {
   "display_name": "gonzag",
   "language": "python",
   "name": "gonzag"
  },
  "language_info": {
   "codemirror_mode": {
    "name": "ipython",
    "version": 3
   },
   "file_extension": ".py",
   "mimetype": "text/x-python",
   "name": "python",
   "nbconvert_exporter": "python",
   "pygments_lexer": "ipython3",
   "version": "3.9.2"
  }
 },
 "nbformat": 4,
 "nbformat_minor": 5
}
