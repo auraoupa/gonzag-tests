{
 "cells": [
  {
   "cell_type": "code",
   "execution_count": 1,
   "id": "apart-expense",
   "metadata": {},
   "outputs": [],
   "source": [
    "import gonzag as gz\n",
    "from gonzag.config import ldebug\n"
   ]
  },
  {
   "cell_type": "code",
   "execution_count": 2,
   "id": "found-insight",
   "metadata": {},
   "outputs": [],
   "source": [
    "file_sat = '/Users/auraoupa/Work/git/gonzag_old/zarr_dt_global_alg_sla_vxxc_20170402_SARAL-Altika'\n",
    "name_ssh_sat = 'adt_unfiltered'\n",
    "file_mod = '/Users/auraoupa/Work/git/gonzag_old/zarr_ssh_ORCA1_20170101_20171231_grid_T'\n",
    "name_ssh_mod = 'ssh'\n",
    "file_lsm_mod = '/Users/auraoupa/Work/git/gonzag_old/zarr_ssh_ORCA1_20170101_20171231_grid_T'\n",
    "name_lsm_mod = '_FillValue'"
   ]
  },
  {
   "cell_type": "code",
   "execution_count": 3,
   "id": "reverse-former",
   "metadata": {},
   "outputs": [],
   "source": [
    "(it1,it2), (Nts,Ntm) = gz.GetEpochTimeOverlap( file_sat , file_mod )"
   ]
  },
  {
   "cell_type": "code",
   "execution_count": 4,
   "id": "illegal-alpha",
   "metadata": {},
   "outputs": [
    {
     "name": "stdout",
     "output_type": "stream",
     "text": [
      " *** Time overlap between model and satellite in UNIX epoch time: it1, it2 2017-04-01T23:57:40.480926208 -- 2017-04-02T23:14:42.618708992\n",
      "   => UTC: \"2017-04-01T23:57:40.480926208\" to \"2017-04-02T23:14:42.618708992\"\n",
      "\n",
      "\n",
      "\n",
      "\n",
      " #####   M O D E L   2 D + T   D O M A I N   a.k.a.  S O U R C E   #####\n",
      "\n"
     ]
    }
   ],
   "source": [
    "    print(' *** Time overlap between model and satellite in UNIX epoch time: it1, it2', it1,'--',it2)\n",
    "    print('   => UTC: \"'+str(it1)+'\" to \"'+str(it2)+'\"\\n')\n",
    "\n",
    "\n",
    "    print('\\n\\n\\n #####   M O D E L   2 D + T   D O M A I N   a.k.a.  S O U R C E   #####\\n')\n",
    "\n"
   ]
  },
  {
   "cell_type": "code",
   "execution_count": 5,
   "id": "pediatric-richards",
   "metadata": {},
   "outputs": [],
   "source": [
    "clsm = name_lsm_mod\n",
    "if name_lsm_mod=='_FillValue': clsm = name_lsm_mod+'@'+name_ssh_mod"
   ]
  },
  {
   "cell_type": "code",
   "execution_count": 6,
   "id": "valuable-birthday",
   "metadata": {},
   "outputs": [
    {
     "name": "stdout",
     "output_type": "stream",
     "text": [
      " *** Model latitude var is: \"nav_lat\" ! with 2 dimensions! (292, 362) \n",
      "\n",
      " *** Model longitude var is: \"nav_lon\" ! with 2 dimensions! (292, 362) \n",
      "\n",
      "\n",
      " *** what we use to define model land-sea mask:\n",
      "    => \"_FillValue@ssh\" in \"/Users/auraoupa/Work/git/gonzag_old/zarr_ssh_ORCA1_20170101_20171231_grid_T\"\n",
      "\n",
      " *** Skipping computation of angle distortion of the model grid! (\"-D\" option not invoked)...\n",
      "\n",
      " *** About model gridded (source) domain:\n",
      "     * shape =  (292, 362)\n",
      "     * horizontal resolution:  1.0  degrees or  111.11  km\n",
      "     * Is this a global domain w.r.t longitude:  True\n",
      "       ==> East West periodicity:  True , with an overlap of  2  points\n",
      "     * lon_min, lon_max =  0.0 360.0\n",
      "     * lat_min, lat_max =  -78.58 89.74\n",
      "     * should we pay attention to possible STRONG local distorsion in the grid:  False\n",
      "     * number of time records of interest for the interpolation to come:  2\n",
      "       ==> time record indices: 2 to 3, included\n",
      "\n"
     ]
    }
   ],
   "source": [
    "ModelGrid = gz.ModGrid( file_mod, it1, it2, file_lsm_mod, clsm )"
   ]
  },
  {
   "cell_type": "code",
   "execution_count": 7,
   "id": "complicated-answer",
   "metadata": {},
   "outputs": [
    {
     "name": "stdout",
     "output_type": "stream",
     "text": [
      "\n",
      "\n",
      "\n",
      " #####   S A T E L L I T E   1 D   T R A C K   a.k.a.  T A R G E T   #####\n",
      "\n",
      " *** [SatTrack()] Analyzing the time vector in /Users/auraoupa/Work/git/gonzag_old/zarr_dt_global_alg_sla_vxxc_20170402_SARAL-Altika ...\n",
      "\n",
      " *** About satellite track (target) domain:\n",
      "     * number of time records of interest for the interpolation to come:  44533\n",
      "       ==> time record indices: 0 to 44532, included\n",
      "\n"
     ]
    }
   ],
   "source": [
    "    print('\\n\\n\\n #####   S A T E L L I T E   1 D   T R A C K   a.k.a.  T A R G E T   #####\\n')\n",
    "\n",
    "    SatelliteTrack = gz.SatTrack( file_sat, it1, it2, Np=Nts, \\\n",
    "                                  domain_bounds=ModelGrid.domain_bounds, l_0_360=ModelGrid.l360 )\n"
   ]
  },
  {
   "cell_type": "code",
   "execution_count": 8,
   "id": "rapid-saskatchewan",
   "metadata": {},
   "outputs": [
    {
     "name": "stdout",
     "output_type": "stream",
     "text": [
      " *** \"found\" distance criterion when searching for nearest point on model grid is  83.3325  km\n",
      "\n",
      " *** Will use zoom boxes of width of 5 points for 1st attempts of nearest-point location...\n",
      "\n",
      "\n",
      " *** Finding nearest points on source (model) grid... (rd_found_km, np_box_r = 83.3325 2 )\n",
      "      +++ Treated point: 4453/44533 \n",
      "          ==> Sat. coordinates:     72.053 28.396\n",
      "          ==> Model nearest point:  72.043 27.799  ( 264 293 )\n",
      "      +++ Treated point: 8906/44533 \n",
      "          ==> Sat. coordinates:     -29.824 196.301\n",
      "          ==> Model nearest point:  -29.59 196.5  ( 100 124 )\n",
      "      +++ Treated point: 13359/44533 \n",
      "          ==> Sat. coordinates:     -23.519 350.947\n",
      "          ==> Model nearest point:  -23.327 350.5  ( 107 278 )\n",
      "      +++ Treated point: 17812/44533 \n",
      "          ==> Sat. coordinates:     20.543 315.757\n",
      "          ==> Model nearest point:  20.545 315.5  ( 182 243 )\n",
      "      +++ Treated point: 22265/44533 \n",
      "          ==> Sat. coordinates:     -43.608 281.362\n",
      "          ==> Model nearest point:  -43.93 281.5  ( 82 209 )\n",
      "      +++ Treated point: 26718/44533 \n",
      "          ==> Sat. coordinates:     17.922 56.419\n",
      "          ==> Model nearest point:  17.715 56.5  ( 179 344 )\n",
      "      +++ Treated point: 31171/44533 \n",
      "          ==> Sat. coordinates:     -38.703 204.245\n",
      "          ==> Model nearest point:  -38.676 204.5  ( 89 132 )\n",
      "      +++ Treated point: 35624/44533 \n",
      "          ==> Sat. coordinates:     7.462 167.84\n",
      "          ==> Model nearest point:  7.371 167.5  ( 166 95 )\n",
      "      +++ Treated point: 40077/44533 \n",
      "          ==> Sat. coordinates:     38.626 134.754\n",
      "          ==> Model nearest point:  38.905 134.27  ( 204 62 )\n",
      "      +++ Treated point: 44530/44533 \n",
      "          ==> Sat. coordinates:     -70.041 257.313\n",
      "          ==> Model nearest point:  -70.162 257.503  ( 31 185 )\n",
      "     ***    Done! *** \n",
      "\n",
      "  *** Determining source meshes...\n",
      "     ***    Done! *** \n",
      "\n",
      "  *** Computing bilinear weights...\n",
      "     ***    Done! *** \n",
      "\n",
      "\n",
      " *** Starting space-time interpolation of model data onto the 44533 selected track points...\n",
      "      jt = 00000 => satelite time = 2017-04-01T23:57:40.480926208\n",
      "      jt = 04453 => satelite time = 2017-04-02T02:17:36.552599040\n",
      "      jt = 08906 => satelite time = 2017-04-02T04:36:13.549276928\n",
      "      jt = 13359 => satelite time = 2017-04-02T06:52:10.954488064\n",
      "      jt = 17812 => satelite time = 2017-04-02T08:45:15.721318144\n",
      "      jt = 22265 => satelite time = 2017-04-02T11:48:18.209625856\n",
      "      jt = 26718 => satelite time = 2017-04-02T14:26:26.337569024\n",
      "      jt = 31171 => satelite time = 2017-04-02T16:51:33.931501056\n",
      "      jt = 35624 => satelite time = 2017-04-02T18:45:12.939482880\n",
      "      jt = 40077 => satelite time = 2017-04-02T20:34:37.067076864\n",
      "      jt = 44530 => satelite time = 2017-04-02T23:14:40.506708992\n",
      " *** Space-time interpolation done!\n",
      "\n",
      "\n",
      " *** Time report:\n",
      "     - Construction of the source-target bilinear mapping took: 8.0 s\n",
      "     - Interpolation of model data on the 44533 satellite points took: 2315.0 s \n",
      "\n"
     ]
    }
   ],
   "source": [
    "ii = gz.Model2SatTrack( ModelGrid, name_ssh_mod, SatelliteTrack, name_ssh_sat )\n"
   ]
  },
  {
   "cell_type": "code",
   "execution_count": null,
   "id": "increasing-crawford",
   "metadata": {},
   "outputs": [],
   "source": []
  }
 ],
 "metadata": {
  "kernelspec": {
   "display_name": "gonzag",
   "language": "python",
   "name": "gonzag"
  },
  "language_info": {
   "codemirror_mode": {
    "name": "ipython",
    "version": 3
   },
   "file_extension": ".py",
   "mimetype": "text/x-python",
   "name": "python",
   "nbconvert_exporter": "python",
   "pygments_lexer": "ipython3",
   "version": "3.9.2"
  }
 },
 "nbformat": 4,
 "nbformat_minor": 5
}
